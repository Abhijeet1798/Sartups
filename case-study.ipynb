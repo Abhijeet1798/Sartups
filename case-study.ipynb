{
 "cells": [
  {
   "cell_type": "code",
   "execution_count": 1,
   "id": "8d43be59",
   "metadata": {
    "execution": {
     "iopub.execute_input": "2022-01-20T10:32:59.734717Z",
     "iopub.status.busy": "2022-01-20T10:32:59.731781Z",
     "iopub.status.idle": "2022-01-20T10:32:59.749408Z",
     "shell.execute_reply": "2022-01-20T10:32:59.749848Z",
     "shell.execute_reply.started": "2022-01-20T10:18:26.432267Z"
    },
    "papermill": {
     "duration": 0.039825,
     "end_time": "2022-01-20T10:32:59.750174",
     "exception": false,
     "start_time": "2022-01-20T10:32:59.710349",
     "status": "completed"
    },
    "tags": []
   },
   "outputs": [
    {
     "name": "stdout",
     "output_type": "stream",
     "text": [
      "/kaggle/input/startup-data/startup_funding.csv\n"
     ]
    }
   ],
   "source": [
    "# This Python 3 environment comes with many helpful analytics libraries installed\n",
    "# It is defined by the kaggle/python Docker image: https://github.com/kaggle/docker-python\n",
    "# For example, here's several helpful packages to load\n",
    "\n",
    "import numpy as np # linear algebra\n",
    "import pandas as pd # data processing, CSV file I/O (e.g. pd.read_csv)\n",
    "\n",
    "# Input data files are available in the read-only \"../input/\" directory\n",
    "# For example, running this (by clicking run or pressing Shift+Enter) will list all files under the input directory\n",
    "\n",
    "import os\n",
    "for dirname, _, filenames in os.walk('/kaggle/input'):\n",
    "    for filename in filenames:\n",
    "        print(os.path.join(dirname, filename))\n",
    "\n",
    "# You can write up to 20GB to the current directory (/kaggle/working/) that gets preserved as output when you create a version using \"Save & Run All\" \n",
    "# You can also write temporary files to /kaggle/temp/, but they won't be saved outside of the current session"
   ]
  },
  {
   "cell_type": "code",
   "execution_count": 2,
   "id": "8b20c354",
   "metadata": {
    "execution": {
     "iopub.execute_input": "2022-01-20T10:32:59.779606Z",
     "iopub.status.busy": "2022-01-20T10:32:59.777561Z",
     "iopub.status.idle": "2022-01-20T10:33:00.718189Z",
     "shell.execute_reply": "2022-01-20T10:33:00.717026Z",
     "shell.execute_reply.started": "2022-01-20T10:18:26.459086Z"
    },
    "papermill": {
     "duration": 0.955334,
     "end_time": "2022-01-20T10:33:00.718361",
     "exception": false,
     "start_time": "2022-01-20T10:32:59.763027",
     "status": "completed"
    },
    "tags": []
   },
   "outputs": [],
   "source": [
    "import pandas as pd\n",
    "import numpy as np\n",
    "import matplotlib.pyplot as plt\n",
    "import seaborn as sns\n",
    "data = pd.read_csv(\"/kaggle/input/startup-data/startup_funding.csv\")"
   ]
  },
  {
   "cell_type": "code",
   "execution_count": 3,
   "id": "81275bbc",
   "metadata": {
    "execution": {
     "iopub.execute_input": "2022-01-20T10:33:00.754735Z",
     "iopub.status.busy": "2022-01-20T10:33:00.752820Z",
     "iopub.status.idle": "2022-01-20T10:33:00.764699Z",
     "shell.execute_reply": "2022-01-20T10:33:00.765428Z",
     "shell.execute_reply.started": "2022-01-20T10:18:27.469313Z"
    },
    "papermill": {
     "duration": 0.035309,
     "end_time": "2022-01-20T10:33:00.765661",
     "exception": false,
     "start_time": "2022-01-20T10:33:00.730352",
     "status": "completed"
    },
    "tags": []
   },
   "outputs": [
    {
     "name": "stdout",
     "output_type": "stream",
     "text": [
      "       SNo        Date       StartupName   IndustryVertical  ...                                      InvestorsName  InvestmentType AmountInUSD                            Remarks\n",
      "0        0  01/08/2017          TouchKin         Technology  ...                                        Kae Capital  Private Equity   1,300,000                                NaN\n",
      "1        1  02/08/2017           Ethinos         Technology  ...                         Triton Investment Advisors  Private Equity         NaN                                NaN\n",
      "2        2  02/08/2017      Leverage Edu  Consumer Internet  ...  Kashyap Deorah, Anand Sankeshwar, Deepak Jain,...    Seed Funding         NaN                                NaN\n",
      "3        3  02/08/2017              Zepo  Consumer Internet  ...  Kunal Shah, LetsVenture, Anupam Mittal, Hetal ...    Seed Funding     500,000                                NaN\n",
      "4        4  02/08/2017      Click2Clinic  Consumer Internet  ...                     Narottam Thudi, Shireesh Palle    Seed Funding     850,000                                NaN\n",
      "...    ...         ...               ...                ...  ...                                                ...             ...         ...                                ...\n",
      "2367  2367  29/01/2015        Printvenue                NaN  ...                        Asia Pacific Internet Group  Private Equity   4,500,000                                NaN\n",
      "2368  2368  29/01/2015          Graphene                NaN  ...                                     KARSEMVEN Fund  Private Equity     825,000                Govt backed VC Fund\n",
      "2369  2369  30/01/2015    Mad Street Den                NaN  ...                     Exfinity Fund, GrowX Ventures.  Private Equity   1,500,000                                NaN\n",
      "2370  2370  30/01/2015         Simplotel                NaN  ...                                         MakeMyTrip  Private Equity         NaN  Strategic Funding, Minority stake\n",
      "2371  2371  31/01/2015  couponmachine.in                NaN  ...                  UK based Group of Angel Investors    Seed Funding     140,000                                NaN\n",
      "\n",
      "[2372 rows x 10 columns]\n"
     ]
    }
   ],
   "source": [
    "\n",
    "pd.set_option('display.max_rows',25)\n",
    "pd.set_option('display.max_columns',9)\n",
    "pd.set_option('display.width',200)\n",
    "\n",
    "print(data)\n"
   ]
  },
  {
   "cell_type": "code",
   "execution_count": 4,
   "id": "7a9e200c",
   "metadata": {
    "execution": {
     "iopub.execute_input": "2022-01-20T10:33:00.794540Z",
     "iopub.status.busy": "2022-01-20T10:33:00.793946Z",
     "iopub.status.idle": "2022-01-20T10:33:00.814147Z",
     "shell.execute_reply": "2022-01-20T10:33:00.814855Z",
     "shell.execute_reply.started": "2022-01-20T10:18:27.490214Z"
    },
    "papermill": {
     "duration": 0.035897,
     "end_time": "2022-01-20T10:33:00.815117",
     "exception": false,
     "start_time": "2022-01-20T10:33:00.779220",
     "status": "completed"
    },
    "scrolled": true,
    "tags": []
   },
   "outputs": [
    {
     "name": "stdout",
     "output_type": "stream",
     "text": [
      "<class 'pandas.core.frame.DataFrame'>\n",
      "RangeIndex: 2372 entries, 0 to 2371\n",
      "Data columns (total 10 columns):\n",
      " #   Column            Non-Null Count  Dtype \n",
      "---  ------            --------------  ----- \n",
      " 0   SNo               2372 non-null   int64 \n",
      " 1   Date              2372 non-null   object\n",
      " 2   StartupName       2372 non-null   object\n",
      " 3   IndustryVertical  2201 non-null   object\n",
      " 4   SubVertical       1436 non-null   object\n",
      " 5   CityLocation      2193 non-null   object\n",
      " 6   InvestorsName     2364 non-null   object\n",
      " 7   InvestmentType    2371 non-null   object\n",
      " 8   AmountInUSD       1525 non-null   object\n",
      " 9   Remarks           419 non-null    object\n",
      "dtypes: int64(1), object(9)\n",
      "memory usage: 185.4+ KB\n"
     ]
    }
   ],
   "source": [
    "data.head(10)\n",
    "data.info()"
   ]
  },
  {
   "cell_type": "code",
   "execution_count": 5,
   "id": "3a66a827",
   "metadata": {
    "execution": {
     "iopub.execute_input": "2022-01-20T10:33:00.844604Z",
     "iopub.status.busy": "2022-01-20T10:33:00.843906Z",
     "iopub.status.idle": "2022-01-20T10:33:00.847057Z",
     "shell.execute_reply": "2022-01-20T10:33:00.847528Z",
     "shell.execute_reply.started": "2022-01-20T10:18:27.514675Z"
    },
    "papermill": {
     "duration": 0.018932,
     "end_time": "2022-01-20T10:33:00.847689",
     "exception": false,
     "start_time": "2022-01-20T10:33:00.828757",
     "status": "completed"
    },
    "tags": []
   },
   "outputs": [],
   "source": [
    "df = data"
   ]
  },
  {
   "cell_type": "code",
   "execution_count": 6,
   "id": "144065aa",
   "metadata": {
    "execution": {
     "iopub.execute_input": "2022-01-20T10:33:00.882884Z",
     "iopub.status.busy": "2022-01-20T10:33:00.882247Z",
     "iopub.status.idle": "2022-01-20T10:33:00.883903Z",
     "shell.execute_reply": "2022-01-20T10:33:00.884487Z",
     "shell.execute_reply.started": "2022-01-20T10:18:27.520071Z"
    },
    "papermill": {
     "duration": 0.024275,
     "end_time": "2022-01-20T10:33:00.884663",
     "exception": false,
     "start_time": "2022-01-20T10:33:00.860388",
     "status": "completed"
    },
    "tags": []
   },
   "outputs": [],
   "source": [
    "df = df.dropna(subset=['AmountInUSD']) # Dropping the rows whose investment is not known"
   ]
  },
  {
   "cell_type": "code",
   "execution_count": 7,
   "id": "6e95e693",
   "metadata": {
    "execution": {
     "iopub.execute_input": "2022-01-20T10:33:00.923999Z",
     "iopub.status.busy": "2022-01-20T10:33:00.923385Z",
     "iopub.status.idle": "2022-01-20T10:33:00.925813Z",
     "shell.execute_reply": "2022-01-20T10:33:00.926384Z",
     "shell.execute_reply.started": "2022-01-20T10:18:27.535388Z"
    },
    "papermill": {
     "duration": 0.029027,
     "end_time": "2022-01-20T10:33:00.926557",
     "exception": false,
     "start_time": "2022-01-20T10:33:00.897530",
     "status": "completed"
    },
    "tags": []
   },
   "outputs": [
    {
     "name": "stdout",
     "output_type": "stream",
     "text": [
      "<class 'pandas.core.frame.DataFrame'>\n",
      "Int64Index: 1525 entries, 0 to 2371\n",
      "Data columns (total 10 columns):\n",
      " #   Column            Non-Null Count  Dtype \n",
      "---  ------            --------------  ----- \n",
      " 0   SNo               1525 non-null   int64 \n",
      " 1   Date              1525 non-null   object\n",
      " 2   StartupName       1525 non-null   object\n",
      " 3   IndustryVertical  1394 non-null   object\n",
      " 4   SubVertical       871 non-null    object\n",
      " 5   CityLocation      1390 non-null   object\n",
      " 6   InvestorsName     1520 non-null   object\n",
      " 7   InvestmentType    1525 non-null   object\n",
      " 8   AmountInUSD       1525 non-null   object\n",
      " 9   Remarks           341 non-null    object\n",
      "dtypes: int64(1), object(9)\n",
      "memory usage: 131.1+ KB\n"
     ]
    }
   ],
   "source": [
    "df.info()"
   ]
  },
  {
   "cell_type": "code",
   "execution_count": 8,
   "id": "c15e611d",
   "metadata": {
    "execution": {
     "iopub.execute_input": "2022-01-20T10:33:00.962684Z",
     "iopub.status.busy": "2022-01-20T10:33:00.956811Z",
     "iopub.status.idle": "2022-01-20T10:33:00.973205Z",
     "shell.execute_reply": "2022-01-20T10:33:00.973711Z",
     "shell.execute_reply.started": "2022-01-20T10:18:27.552852Z"
    },
    "papermill": {
     "duration": 0.034451,
     "end_time": "2022-01-20T10:33:00.973878",
     "exception": false,
     "start_time": "2022-01-20T10:33:00.939427",
     "status": "completed"
    },
    "tags": []
   },
   "outputs": [
    {
     "name": "stderr",
     "output_type": "stream",
     "text": [
      "/opt/conda/lib/python3.7/site-packages/ipykernel_launcher.py:2: SettingWithCopyWarning: \n",
      "A value is trying to be set on a copy of a slice from a DataFrame.\n",
      "Try using .loc[row_indexer,col_indexer] = value instead\n",
      "\n",
      "See the caveats in the documentation: https://pandas.pydata.org/pandas-docs/stable/user_guide/indexing.html#returning-a-view-versus-a-copy\n",
      "  \n"
     ]
    }
   ],
   "source": [
    "# Converting the dates in date time stamp\n",
    "df['Date'] = pd.to_datetime(df['Date'])"
   ]
  },
  {
   "cell_type": "code",
   "execution_count": 9,
   "id": "278d505c",
   "metadata": {
    "execution": {
     "iopub.execute_input": "2022-01-20T10:33:01.004108Z",
     "iopub.status.busy": "2022-01-20T10:33:01.003214Z",
     "iopub.status.idle": "2022-01-20T10:33:01.015949Z",
     "shell.execute_reply": "2022-01-20T10:33:01.016619Z",
     "shell.execute_reply.started": "2022-01-20T10:18:27.573843Z"
    },
    "papermill": {
     "duration": 0.029849,
     "end_time": "2022-01-20T10:33:01.016850",
     "exception": false,
     "start_time": "2022-01-20T10:33:00.987001",
     "status": "completed"
    },
    "tags": []
   },
   "outputs": [
    {
     "name": "stdout",
     "output_type": "stream",
     "text": [
      "<class 'pandas.core.frame.DataFrame'>\n",
      "Int64Index: 1525 entries, 0 to 2371\n",
      "Data columns (total 10 columns):\n",
      " #   Column            Non-Null Count  Dtype         \n",
      "---  ------            --------------  -----         \n",
      " 0   SNo               1525 non-null   int64         \n",
      " 1   Date              1525 non-null   datetime64[ns]\n",
      " 2   StartupName       1525 non-null   object        \n",
      " 3   IndustryVertical  1394 non-null   object        \n",
      " 4   SubVertical       871 non-null    object        \n",
      " 5   CityLocation      1390 non-null   object        \n",
      " 6   InvestorsName     1520 non-null   object        \n",
      " 7   InvestmentType    1525 non-null   object        \n",
      " 8   AmountInUSD       1525 non-null   object        \n",
      " 9   Remarks           341 non-null    object        \n",
      "dtypes: datetime64[ns](1), int64(1), object(8)\n",
      "memory usage: 131.1+ KB\n"
     ]
    }
   ],
   "source": [
    "df.info() # Checking the coversion happened or not"
   ]
  },
  {
   "cell_type": "code",
   "execution_count": 10,
   "id": "c2dc52a5",
   "metadata": {
    "execution": {
     "iopub.execute_input": "2022-01-20T10:33:01.052786Z",
     "iopub.status.busy": "2022-01-20T10:33:01.051849Z",
     "iopub.status.idle": "2022-01-20T10:33:01.057589Z",
     "shell.execute_reply": "2022-01-20T10:33:01.058119Z",
     "shell.execute_reply.started": "2022-01-20T10:18:27.588468Z"
    },
    "papermill": {
     "duration": 0.027119,
     "end_time": "2022-01-20T10:33:01.058331",
     "exception": false,
     "start_time": "2022-01-20T10:33:01.031212",
     "status": "completed"
    },
    "tags": []
   },
   "outputs": [],
   "source": [
    "df = df.drop('SNo',axis = 1) #Dropped the SNo since I will rearrange it"
   ]
  },
  {
   "cell_type": "code",
   "execution_count": 11,
   "id": "f94f1d53",
   "metadata": {
    "execution": {
     "iopub.execute_input": "2022-01-20T10:33:01.092811Z",
     "iopub.status.busy": "2022-01-20T10:33:01.091869Z",
     "iopub.status.idle": "2022-01-20T10:33:01.097508Z",
     "shell.execute_reply": "2022-01-20T10:33:01.098038Z",
     "shell.execute_reply.started": "2022-01-20T10:18:27.602383Z"
    },
    "papermill": {
     "duration": 0.025172,
     "end_time": "2022-01-20T10:33:01.098245",
     "exception": false,
     "start_time": "2022-01-20T10:33:01.073073",
     "status": "completed"
    },
    "tags": []
   },
   "outputs": [],
   "source": [
    "#Data of only 2017\n",
    "df1 = df[df['Date'].dt.year == 2017]"
   ]
  },
  {
   "cell_type": "code",
   "execution_count": 12,
   "id": "32df5588",
   "metadata": {
    "execution": {
     "iopub.execute_input": "2022-01-20T10:33:01.135396Z",
     "iopub.status.busy": "2022-01-20T10:33:01.134437Z",
     "iopub.status.idle": "2022-01-20T10:33:01.152117Z",
     "shell.execute_reply": "2022-01-20T10:33:01.152651Z",
     "shell.execute_reply.started": "2022-01-20T10:18:27.612980Z"
    },
    "papermill": {
     "duration": 0.041002,
     "end_time": "2022-01-20T10:33:01.152818",
     "exception": false,
     "start_time": "2022-01-20T10:33:01.111816",
     "status": "completed"
    },
    "tags": []
   },
   "outputs": [
    {
     "data": {
      "text/html": [
       "<div>\n",
       "<style scoped>\n",
       "    .dataframe tbody tr th:only-of-type {\n",
       "        vertical-align: middle;\n",
       "    }\n",
       "\n",
       "    .dataframe tbody tr th {\n",
       "        vertical-align: top;\n",
       "    }\n",
       "\n",
       "    .dataframe thead th {\n",
       "        text-align: right;\n",
       "    }\n",
       "</style>\n",
       "<table border=\"1\" class=\"dataframe\">\n",
       "  <thead>\n",
       "    <tr style=\"text-align: right;\">\n",
       "      <th></th>\n",
       "      <th>Date</th>\n",
       "      <th>StartupName</th>\n",
       "      <th>IndustryVertical</th>\n",
       "      <th>SubVertical</th>\n",
       "      <th>CityLocation</th>\n",
       "      <th>InvestorsName</th>\n",
       "      <th>InvestmentType</th>\n",
       "      <th>AmountInUSD</th>\n",
       "      <th>Remarks</th>\n",
       "    </tr>\n",
       "  </thead>\n",
       "  <tbody>\n",
       "    <tr>\n",
       "      <th>0</th>\n",
       "      <td>2017-01-08</td>\n",
       "      <td>TouchKin</td>\n",
       "      <td>Technology</td>\n",
       "      <td>Predictive Care Platform</td>\n",
       "      <td>Bangalore</td>\n",
       "      <td>Kae Capital</td>\n",
       "      <td>Private Equity</td>\n",
       "      <td>1,300,000</td>\n",
       "      <td>NaN</td>\n",
       "    </tr>\n",
       "    <tr>\n",
       "      <th>3</th>\n",
       "      <td>2017-02-08</td>\n",
       "      <td>Zepo</td>\n",
       "      <td>Consumer Internet</td>\n",
       "      <td>DIY Ecommerce platform</td>\n",
       "      <td>Mumbai</td>\n",
       "      <td>Kunal Shah, LetsVenture, Anupam Mittal, Hetal ...</td>\n",
       "      <td>Seed Funding</td>\n",
       "      <td>500,000</td>\n",
       "      <td>NaN</td>\n",
       "    </tr>\n",
       "    <tr>\n",
       "      <th>4</th>\n",
       "      <td>2017-02-08</td>\n",
       "      <td>Click2Clinic</td>\n",
       "      <td>Consumer Internet</td>\n",
       "      <td>healthcare service aggregator</td>\n",
       "      <td>Hyderabad</td>\n",
       "      <td>Narottam Thudi, Shireesh Palle</td>\n",
       "      <td>Seed Funding</td>\n",
       "      <td>850,000</td>\n",
       "      <td>NaN</td>\n",
       "    </tr>\n",
       "    <tr>\n",
       "      <th>5</th>\n",
       "      <td>2017-01-07</td>\n",
       "      <td>Billion Loans</td>\n",
       "      <td>Consumer Internet</td>\n",
       "      <td>Peer to Peer Lending platform</td>\n",
       "      <td>Bangalore</td>\n",
       "      <td>Reliance Corporate Advisory Services Ltd</td>\n",
       "      <td>Seed Funding</td>\n",
       "      <td>1,000,000</td>\n",
       "      <td>NaN</td>\n",
       "    </tr>\n",
       "    <tr>\n",
       "      <th>6</th>\n",
       "      <td>2017-03-07</td>\n",
       "      <td>Ecolibriumenergy</td>\n",
       "      <td>Technology</td>\n",
       "      <td>Energy management solutions provider</td>\n",
       "      <td>Ahmedabad</td>\n",
       "      <td>Infuse Ventures, JLL</td>\n",
       "      <td>Private Equity</td>\n",
       "      <td>2,600,000</td>\n",
       "      <td>NaN</td>\n",
       "    </tr>\n",
       "    <tr>\n",
       "      <th>...</th>\n",
       "      <td>...</td>\n",
       "      <td>...</td>\n",
       "      <td>...</td>\n",
       "      <td>...</td>\n",
       "      <td>...</td>\n",
       "      <td>...</td>\n",
       "      <td>...</td>\n",
       "      <td>...</td>\n",
       "      <td>...</td>\n",
       "    </tr>\n",
       "    <tr>\n",
       "      <th>436</th>\n",
       "      <td>2017-01-30</td>\n",
       "      <td>Intuit Things</td>\n",
       "      <td>Technology</td>\n",
       "      <td>IoT solutions for home automation applications</td>\n",
       "      <td>Mumbai</td>\n",
       "      <td>Sanjay Mehta &amp; Others ( The Ten Minute Million)</td>\n",
       "      <td>Seed Funding</td>\n",
       "      <td>106,000</td>\n",
       "      <td>NaN</td>\n",
       "    </tr>\n",
       "    <tr>\n",
       "      <th>437</th>\n",
       "      <td>2017-01-30</td>\n",
       "      <td>Cloudrino</td>\n",
       "      <td>Technology</td>\n",
       "      <td>Cloud based Virtual Servers</td>\n",
       "      <td>New Delhi</td>\n",
       "      <td>The Ten Minute Million</td>\n",
       "      <td>Seed Funding</td>\n",
       "      <td>22,500</td>\n",
       "      <td>NaN</td>\n",
       "    </tr>\n",
       "    <tr>\n",
       "      <th>438</th>\n",
       "      <td>2017-01-30</td>\n",
       "      <td>FabX</td>\n",
       "      <td>eCommerce</td>\n",
       "      <td>Used Furniture Marketplace</td>\n",
       "      <td>Mumbai</td>\n",
       "      <td>The Ten Minute Million</td>\n",
       "      <td>Seed Funding</td>\n",
       "      <td>68,000</td>\n",
       "      <td>NaN</td>\n",
       "    </tr>\n",
       "    <tr>\n",
       "      <th>439</th>\n",
       "      <td>2017-01-30</td>\n",
       "      <td>Maptags</td>\n",
       "      <td>Consumer Internet</td>\n",
       "      <td>Smart Online address tags</td>\n",
       "      <td>Bangalore</td>\n",
       "      <td>The Ten Minute Million</td>\n",
       "      <td>Seed Funding</td>\n",
       "      <td>18,000</td>\n",
       "      <td>NaN</td>\n",
       "    </tr>\n",
       "    <tr>\n",
       "      <th>441</th>\n",
       "      <td>2017-01-31</td>\n",
       "      <td>Heads Up For Tails</td>\n",
       "      <td>eCommerce</td>\n",
       "      <td>Online Pet Products Store</td>\n",
       "      <td>New Delhi</td>\n",
       "      <td>Undisclosed Investors</td>\n",
       "      <td>Private Equity</td>\n",
       "      <td>2,000,000</td>\n",
       "      <td>NaN</td>\n",
       "    </tr>\n",
       "  </tbody>\n",
       "</table>\n",
       "<p>285 rows × 9 columns</p>\n",
       "</div>"
      ],
      "text/plain": [
       "          Date         StartupName   IndustryVertical                                     SubVertical CityLocation                                      InvestorsName  InvestmentType AmountInUSD  \\\n",
       "0   2017-01-08            TouchKin         Technology                        Predictive Care Platform    Bangalore                                        Kae Capital  Private Equity   1,300,000   \n",
       "3   2017-02-08                Zepo  Consumer Internet                          DIY Ecommerce platform       Mumbai  Kunal Shah, LetsVenture, Anupam Mittal, Hetal ...    Seed Funding     500,000   \n",
       "4   2017-02-08        Click2Clinic  Consumer Internet                   healthcare service aggregator    Hyderabad                     Narottam Thudi, Shireesh Palle    Seed Funding     850,000   \n",
       "5   2017-01-07       Billion Loans  Consumer Internet                   Peer to Peer Lending platform    Bangalore           Reliance Corporate Advisory Services Ltd    Seed Funding   1,000,000   \n",
       "6   2017-03-07    Ecolibriumenergy         Technology            Energy management solutions provider    Ahmedabad                               Infuse Ventures, JLL  Private Equity   2,600,000   \n",
       "..         ...                 ...                ...                                             ...          ...                                                ...             ...         ...   \n",
       "436 2017-01-30       Intuit Things         Technology  IoT solutions for home automation applications       Mumbai    Sanjay Mehta & Others ( The Ten Minute Million)    Seed Funding     106,000   \n",
       "437 2017-01-30           Cloudrino         Technology                     Cloud based Virtual Servers    New Delhi                             The Ten Minute Million    Seed Funding      22,500   \n",
       "438 2017-01-30                FabX          eCommerce                      Used Furniture Marketplace       Mumbai                             The Ten Minute Million    Seed Funding      68,000   \n",
       "439 2017-01-30             Maptags  Consumer Internet                       Smart Online address tags    Bangalore                             The Ten Minute Million    Seed Funding      18,000   \n",
       "441 2017-01-31  Heads Up For Tails          eCommerce                       Online Pet Products Store    New Delhi                              Undisclosed Investors  Private Equity   2,000,000   \n",
       "\n",
       "    Remarks  \n",
       "0       NaN  \n",
       "3       NaN  \n",
       "4       NaN  \n",
       "5       NaN  \n",
       "6       NaN  \n",
       "..      ...  \n",
       "436     NaN  \n",
       "437     NaN  \n",
       "438     NaN  \n",
       "439     NaN  \n",
       "441     NaN  \n",
       "\n",
       "[285 rows x 9 columns]"
      ]
     },
     "execution_count": 12,
     "metadata": {},
     "output_type": "execute_result"
    }
   ],
   "source": [
    "df1"
   ]
  },
  {
   "cell_type": "code",
   "execution_count": 13,
   "id": "1dc68261",
   "metadata": {
    "execution": {
     "iopub.execute_input": "2022-01-20T10:33:01.187543Z",
     "iopub.status.busy": "2022-01-20T10:33:01.186541Z",
     "iopub.status.idle": "2022-01-20T10:33:01.204476Z",
     "shell.execute_reply": "2022-01-20T10:33:01.205049Z",
     "shell.execute_reply.started": "2022-01-20T10:18:27.642586Z"
    },
    "papermill": {
     "duration": 0.038369,
     "end_time": "2022-01-20T10:33:01.205242",
     "exception": false,
     "start_time": "2022-01-20T10:33:01.166873",
     "status": "completed"
    },
    "tags": []
   },
   "outputs": [
    {
     "data": {
      "text/html": [
       "<div>\n",
       "<style scoped>\n",
       "    .dataframe tbody tr th:only-of-type {\n",
       "        vertical-align: middle;\n",
       "    }\n",
       "\n",
       "    .dataframe tbody tr th {\n",
       "        vertical-align: top;\n",
       "    }\n",
       "\n",
       "    .dataframe thead th {\n",
       "        text-align: right;\n",
       "    }\n",
       "</style>\n",
       "<table border=\"1\" class=\"dataframe\">\n",
       "  <thead>\n",
       "    <tr style=\"text-align: right;\">\n",
       "      <th></th>\n",
       "      <th>Date</th>\n",
       "      <th>StartupName</th>\n",
       "      <th>IndustryVertical</th>\n",
       "      <th>SubVertical</th>\n",
       "      <th>CityLocation</th>\n",
       "      <th>InvestorsName</th>\n",
       "      <th>InvestmentType</th>\n",
       "      <th>AmountInUSD</th>\n",
       "      <th>Remarks</th>\n",
       "    </tr>\n",
       "  </thead>\n",
       "  <tbody>\n",
       "    <tr>\n",
       "      <th>0</th>\n",
       "      <td>2017-01-08</td>\n",
       "      <td>TouchKin</td>\n",
       "      <td>Technology</td>\n",
       "      <td>Predictive Care Platform</td>\n",
       "      <td>Bangalore</td>\n",
       "      <td>Kae Capital</td>\n",
       "      <td>Private Equity</td>\n",
       "      <td>1,300,000</td>\n",
       "      <td>NaN</td>\n",
       "    </tr>\n",
       "    <tr>\n",
       "      <th>1</th>\n",
       "      <td>2017-02-08</td>\n",
       "      <td>Zepo</td>\n",
       "      <td>Consumer Internet</td>\n",
       "      <td>DIY Ecommerce platform</td>\n",
       "      <td>Mumbai</td>\n",
       "      <td>Kunal Shah, LetsVenture, Anupam Mittal, Hetal ...</td>\n",
       "      <td>Seed Funding</td>\n",
       "      <td>500,000</td>\n",
       "      <td>NaN</td>\n",
       "    </tr>\n",
       "    <tr>\n",
       "      <th>2</th>\n",
       "      <td>2017-02-08</td>\n",
       "      <td>Click2Clinic</td>\n",
       "      <td>Consumer Internet</td>\n",
       "      <td>healthcare service aggregator</td>\n",
       "      <td>Hyderabad</td>\n",
       "      <td>Narottam Thudi, Shireesh Palle</td>\n",
       "      <td>Seed Funding</td>\n",
       "      <td>850,000</td>\n",
       "      <td>NaN</td>\n",
       "    </tr>\n",
       "    <tr>\n",
       "      <th>3</th>\n",
       "      <td>2017-01-07</td>\n",
       "      <td>Billion Loans</td>\n",
       "      <td>Consumer Internet</td>\n",
       "      <td>Peer to Peer Lending platform</td>\n",
       "      <td>Bangalore</td>\n",
       "      <td>Reliance Corporate Advisory Services Ltd</td>\n",
       "      <td>Seed Funding</td>\n",
       "      <td>1,000,000</td>\n",
       "      <td>NaN</td>\n",
       "    </tr>\n",
       "    <tr>\n",
       "      <th>4</th>\n",
       "      <td>2017-03-07</td>\n",
       "      <td>Ecolibriumenergy</td>\n",
       "      <td>Technology</td>\n",
       "      <td>Energy management solutions provider</td>\n",
       "      <td>Ahmedabad</td>\n",
       "      <td>Infuse Ventures, JLL</td>\n",
       "      <td>Private Equity</td>\n",
       "      <td>2,600,000</td>\n",
       "      <td>NaN</td>\n",
       "    </tr>\n",
       "    <tr>\n",
       "      <th>...</th>\n",
       "      <td>...</td>\n",
       "      <td>...</td>\n",
       "      <td>...</td>\n",
       "      <td>...</td>\n",
       "      <td>...</td>\n",
       "      <td>...</td>\n",
       "      <td>...</td>\n",
       "      <td>...</td>\n",
       "      <td>...</td>\n",
       "    </tr>\n",
       "    <tr>\n",
       "      <th>280</th>\n",
       "      <td>2017-01-30</td>\n",
       "      <td>Intuit Things</td>\n",
       "      <td>Technology</td>\n",
       "      <td>IoT solutions for home automation applications</td>\n",
       "      <td>Mumbai</td>\n",
       "      <td>Sanjay Mehta &amp; Others ( The Ten Minute Million)</td>\n",
       "      <td>Seed Funding</td>\n",
       "      <td>106,000</td>\n",
       "      <td>NaN</td>\n",
       "    </tr>\n",
       "    <tr>\n",
       "      <th>281</th>\n",
       "      <td>2017-01-30</td>\n",
       "      <td>Cloudrino</td>\n",
       "      <td>Technology</td>\n",
       "      <td>Cloud based Virtual Servers</td>\n",
       "      <td>New Delhi</td>\n",
       "      <td>The Ten Minute Million</td>\n",
       "      <td>Seed Funding</td>\n",
       "      <td>22,500</td>\n",
       "      <td>NaN</td>\n",
       "    </tr>\n",
       "    <tr>\n",
       "      <th>282</th>\n",
       "      <td>2017-01-30</td>\n",
       "      <td>FabX</td>\n",
       "      <td>eCommerce</td>\n",
       "      <td>Used Furniture Marketplace</td>\n",
       "      <td>Mumbai</td>\n",
       "      <td>The Ten Minute Million</td>\n",
       "      <td>Seed Funding</td>\n",
       "      <td>68,000</td>\n",
       "      <td>NaN</td>\n",
       "    </tr>\n",
       "    <tr>\n",
       "      <th>283</th>\n",
       "      <td>2017-01-30</td>\n",
       "      <td>Maptags</td>\n",
       "      <td>Consumer Internet</td>\n",
       "      <td>Smart Online address tags</td>\n",
       "      <td>Bangalore</td>\n",
       "      <td>The Ten Minute Million</td>\n",
       "      <td>Seed Funding</td>\n",
       "      <td>18,000</td>\n",
       "      <td>NaN</td>\n",
       "    </tr>\n",
       "    <tr>\n",
       "      <th>284</th>\n",
       "      <td>2017-01-31</td>\n",
       "      <td>Heads Up For Tails</td>\n",
       "      <td>eCommerce</td>\n",
       "      <td>Online Pet Products Store</td>\n",
       "      <td>New Delhi</td>\n",
       "      <td>Undisclosed Investors</td>\n",
       "      <td>Private Equity</td>\n",
       "      <td>2,000,000</td>\n",
       "      <td>NaN</td>\n",
       "    </tr>\n",
       "  </tbody>\n",
       "</table>\n",
       "<p>285 rows × 9 columns</p>\n",
       "</div>"
      ],
      "text/plain": [
       "          Date         StartupName   IndustryVertical                                     SubVertical CityLocation                                      InvestorsName  InvestmentType AmountInUSD  \\\n",
       "0   2017-01-08            TouchKin         Technology                        Predictive Care Platform    Bangalore                                        Kae Capital  Private Equity   1,300,000   \n",
       "1   2017-02-08                Zepo  Consumer Internet                          DIY Ecommerce platform       Mumbai  Kunal Shah, LetsVenture, Anupam Mittal, Hetal ...    Seed Funding     500,000   \n",
       "2   2017-02-08        Click2Clinic  Consumer Internet                   healthcare service aggregator    Hyderabad                     Narottam Thudi, Shireesh Palle    Seed Funding     850,000   \n",
       "3   2017-01-07       Billion Loans  Consumer Internet                   Peer to Peer Lending platform    Bangalore           Reliance Corporate Advisory Services Ltd    Seed Funding   1,000,000   \n",
       "4   2017-03-07    Ecolibriumenergy         Technology            Energy management solutions provider    Ahmedabad                               Infuse Ventures, JLL  Private Equity   2,600,000   \n",
       "..         ...                 ...                ...                                             ...          ...                                                ...             ...         ...   \n",
       "280 2017-01-30       Intuit Things         Technology  IoT solutions for home automation applications       Mumbai    Sanjay Mehta & Others ( The Ten Minute Million)    Seed Funding     106,000   \n",
       "281 2017-01-30           Cloudrino         Technology                     Cloud based Virtual Servers    New Delhi                             The Ten Minute Million    Seed Funding      22,500   \n",
       "282 2017-01-30                FabX          eCommerce                      Used Furniture Marketplace       Mumbai                             The Ten Minute Million    Seed Funding      68,000   \n",
       "283 2017-01-30             Maptags  Consumer Internet                       Smart Online address tags    Bangalore                             The Ten Minute Million    Seed Funding      18,000   \n",
       "284 2017-01-31  Heads Up For Tails          eCommerce                       Online Pet Products Store    New Delhi                              Undisclosed Investors  Private Equity   2,000,000   \n",
       "\n",
       "    Remarks  \n",
       "0       NaN  \n",
       "1       NaN  \n",
       "2       NaN  \n",
       "3       NaN  \n",
       "4       NaN  \n",
       "..      ...  \n",
       "280     NaN  \n",
       "281     NaN  \n",
       "282     NaN  \n",
       "283     NaN  \n",
       "284     NaN  \n",
       "\n",
       "[285 rows x 9 columns]"
      ]
     },
     "execution_count": 13,
     "metadata": {},
     "output_type": "execute_result"
    }
   ],
   "source": [
    "# Rearrange on the basis of date\n",
    "df1.sort_values(by = 'Date', ascending = False)\n",
    "df1.reset_index(drop = True, inplace = True)\n",
    "df1"
   ]
  },
  {
   "cell_type": "code",
   "execution_count": 14,
   "id": "6ac82251",
   "metadata": {
    "execution": {
     "iopub.execute_input": "2022-01-20T10:33:01.240739Z",
     "iopub.status.busy": "2022-01-20T10:33:01.239897Z",
     "iopub.status.idle": "2022-01-20T10:33:01.242321Z",
     "shell.execute_reply": "2022-01-20T10:33:01.242754Z",
     "shell.execute_reply.started": "2022-01-20T10:24:35.908847Z"
    },
    "papermill": {
     "duration": 0.023033,
     "end_time": "2022-01-20T10:33:01.242923",
     "exception": false,
     "start_time": "2022-01-20T10:33:01.219890",
     "status": "completed"
    },
    "tags": []
   },
   "outputs": [],
   "source": [
    "#Method to converting my currency column into numerical\n",
    "def clean_currency(x):\n",
    "    \"\"\" If the value is a string, then remove currency symbol and delimiters\n",
    "    otherwise, the value is numeric and can be converted\n",
    "    \"\"\"\n",
    "    if isinstance(x, str):\n",
    "       # return(x.replace('$', '').replace(',', ''))\n",
    "        return(x.replace(',', ''))\n",
    "    return(x)"
   ]
  },
  {
   "cell_type": "code",
   "execution_count": 15,
   "id": "9b72055b",
   "metadata": {
    "execution": {
     "iopub.execute_input": "2022-01-20T10:33:01.282823Z",
     "iopub.status.busy": "2022-01-20T10:33:01.279533Z",
     "iopub.status.idle": "2022-01-20T10:33:01.285164Z",
     "shell.execute_reply": "2022-01-20T10:33:01.285887Z",
     "shell.execute_reply.started": "2022-01-20T10:25:07.311923Z"
    },
    "papermill": {
     "duration": 0.025319,
     "end_time": "2022-01-20T10:33:01.286119",
     "exception": false,
     "start_time": "2022-01-20T10:33:01.260800",
     "status": "completed"
    },
    "tags": []
   },
   "outputs": [
    {
     "name": "stderr",
     "output_type": "stream",
     "text": [
      "/opt/conda/lib/python3.7/site-packages/ipykernel_launcher.py:1: SettingWithCopyWarning: \n",
      "A value is trying to be set on a copy of a slice from a DataFrame.\n",
      "Try using .loc[row_indexer,col_indexer] = value instead\n",
      "\n",
      "See the caveats in the documentation: https://pandas.pydata.org/pandas-docs/stable/user_guide/indexing.html#returning-a-view-versus-a-copy\n",
      "  \"\"\"Entry point for launching an IPython kernel.\n"
     ]
    }
   ],
   "source": [
    "df1['AmountInUSD'] = df1['AmountInUSD'].apply(clean_currency).astype('float')"
   ]
  },
  {
   "cell_type": "code",
   "execution_count": 16,
   "id": "6fa89d42",
   "metadata": {
    "execution": {
     "iopub.execute_input": "2022-01-20T10:33:01.320953Z",
     "iopub.status.busy": "2022-01-20T10:33:01.320341Z",
     "iopub.status.idle": "2022-01-20T10:33:01.324486Z",
     "shell.execute_reply": "2022-01-20T10:33:01.324909Z",
     "shell.execute_reply.started": "2022-01-20T10:25:23.943037Z"
    },
    "papermill": {
     "duration": 0.022244,
     "end_time": "2022-01-20T10:33:01.325097",
     "exception": false,
     "start_time": "2022-01-20T10:33:01.302853",
     "status": "completed"
    },
    "tags": []
   },
   "outputs": [],
   "source": [
    "df1 = df1.sort_values(by = 'AmountInUSD', ascending = False)"
   ]
  },
  {
   "cell_type": "code",
   "execution_count": 17,
   "id": "afbd6d31",
   "metadata": {
    "execution": {
     "iopub.execute_input": "2022-01-20T10:33:01.359656Z",
     "iopub.status.busy": "2022-01-20T10:33:01.359023Z",
     "iopub.status.idle": "2022-01-20T10:33:01.362164Z",
     "shell.execute_reply": "2022-01-20T10:33:01.361540Z",
     "shell.execute_reply.started": "2022-01-20T10:25:51.930013Z"
    },
    "papermill": {
     "duration": 0.02218,
     "end_time": "2022-01-20T10:33:01.362322",
     "exception": false,
     "start_time": "2022-01-20T10:33:01.340142",
     "status": "completed"
    },
    "tags": []
   },
   "outputs": [],
   "source": [
    "df1.reset_index(drop = True, inplace = True)"
   ]
  },
  {
   "cell_type": "code",
   "execution_count": 18,
   "id": "4a71c61d",
   "metadata": {
    "execution": {
     "iopub.execute_input": "2022-01-20T10:33:01.397768Z",
     "iopub.status.busy": "2022-01-20T10:33:01.397095Z",
     "iopub.status.idle": "2022-01-20T10:33:01.413231Z",
     "shell.execute_reply": "2022-01-20T10:33:01.413667Z",
     "shell.execute_reply.started": "2022-01-20T10:26:09.841583Z"
    },
    "papermill": {
     "duration": 0.036198,
     "end_time": "2022-01-20T10:33:01.413839",
     "exception": false,
     "start_time": "2022-01-20T10:33:01.377641",
     "status": "completed"
    },
    "tags": []
   },
   "outputs": [
    {
     "data": {
      "text/html": [
       "<div>\n",
       "<style scoped>\n",
       "    .dataframe tbody tr th:only-of-type {\n",
       "        vertical-align: middle;\n",
       "    }\n",
       "\n",
       "    .dataframe tbody tr th {\n",
       "        vertical-align: top;\n",
       "    }\n",
       "\n",
       "    .dataframe thead th {\n",
       "        text-align: right;\n",
       "    }\n",
       "</style>\n",
       "<table border=\"1\" class=\"dataframe\">\n",
       "  <thead>\n",
       "    <tr style=\"text-align: right;\">\n",
       "      <th></th>\n",
       "      <th>Date</th>\n",
       "      <th>StartupName</th>\n",
       "      <th>IndustryVertical</th>\n",
       "      <th>SubVertical</th>\n",
       "      <th>CityLocation</th>\n",
       "      <th>InvestorsName</th>\n",
       "      <th>InvestmentType</th>\n",
       "      <th>AmountInUSD</th>\n",
       "      <th>Remarks</th>\n",
       "    </tr>\n",
       "  </thead>\n",
       "  <tbody>\n",
       "    <tr>\n",
       "      <th>0</th>\n",
       "      <td>2017-03-21</td>\n",
       "      <td>Flipkart</td>\n",
       "      <td>eCommerce</td>\n",
       "      <td>ECommerce Marketplace</td>\n",
       "      <td>Bangalore</td>\n",
       "      <td>Microsoft, eBay, Tencent Holdings</td>\n",
       "      <td>Private Equity</td>\n",
       "      <td>1.400000e+09</td>\n",
       "      <td>NaN</td>\n",
       "    </tr>\n",
       "    <tr>\n",
       "      <th>1</th>\n",
       "      <td>2017-05-18</td>\n",
       "      <td>Paytm</td>\n",
       "      <td>ECommerce</td>\n",
       "      <td>Mobile Wallet &amp; ECommerce platform</td>\n",
       "      <td>Bangalore</td>\n",
       "      <td>SoftBank Group</td>\n",
       "      <td>Private Equity</td>\n",
       "      <td>1.400000e+09</td>\n",
       "      <td>NaN</td>\n",
       "    </tr>\n",
       "    <tr>\n",
       "      <th>2</th>\n",
       "      <td>2017-01-03</td>\n",
       "      <td>Ola</td>\n",
       "      <td>Consumer Internet</td>\n",
       "      <td>App based cab aggregator</td>\n",
       "      <td>Bangalore</td>\n",
       "      <td>SoftBank Group Corp</td>\n",
       "      <td>Private Equity</td>\n",
       "      <td>3.300000e+08</td>\n",
       "      <td>NaN</td>\n",
       "    </tr>\n",
       "    <tr>\n",
       "      <th>3</th>\n",
       "      <td>2017-04-14</td>\n",
       "      <td>Ola Cabs</td>\n",
       "      <td>Consumer Internet</td>\n",
       "      <td>Cab Aggregator App</td>\n",
       "      <td>Bangalore</td>\n",
       "      <td>SIMI Pacific Pte</td>\n",
       "      <td>Private Equity</td>\n",
       "      <td>2.600000e+08</td>\n",
       "      <td>NaN</td>\n",
       "    </tr>\n",
       "    <tr>\n",
       "      <th>4</th>\n",
       "      <td>2017-04-24</td>\n",
       "      <td>Oyo Rooms</td>\n",
       "      <td>Consumer Internet</td>\n",
       "      <td>Branded Budget Hotels Aggregator</td>\n",
       "      <td>Gurgaon</td>\n",
       "      <td>SoftBank Vision Fund, Lightspeed Venture Partn...</td>\n",
       "      <td>Private Equity</td>\n",
       "      <td>2.500000e+08</td>\n",
       "      <td>NaN</td>\n",
       "    </tr>\n",
       "    <tr>\n",
       "      <th>...</th>\n",
       "      <td>...</td>\n",
       "      <td>...</td>\n",
       "      <td>...</td>\n",
       "      <td>...</td>\n",
       "      <td>...</td>\n",
       "      <td>...</td>\n",
       "      <td>...</td>\n",
       "      <td>...</td>\n",
       "      <td>...</td>\n",
       "    </tr>\n",
       "    <tr>\n",
       "      <th>280</th>\n",
       "      <td>2017-02-17</td>\n",
       "      <td>Leopetra</td>\n",
       "      <td>eCommerce</td>\n",
       "      <td>Solution provider for pet needs</td>\n",
       "      <td>Mumbai</td>\n",
       "      <td>Facebook FBStart</td>\n",
       "      <td>Seed Funding</td>\n",
       "      <td>4.000000e+04</td>\n",
       "      <td>NaN</td>\n",
       "    </tr>\n",
       "    <tr>\n",
       "      <th>281</th>\n",
       "      <td>2017-08-02</td>\n",
       "      <td>Edurev</td>\n",
       "      <td>Consumer Internet</td>\n",
       "      <td>Online Education Portal</td>\n",
       "      <td>Gurgaon</td>\n",
       "      <td>Facebook FB Start programme</td>\n",
       "      <td>Seed Funding</td>\n",
       "      <td>4.000000e+04</td>\n",
       "      <td>NaN</td>\n",
       "    </tr>\n",
       "    <tr>\n",
       "      <th>282</th>\n",
       "      <td>2017-07-03</td>\n",
       "      <td>Book Servicing</td>\n",
       "      <td>Consumer Internet</td>\n",
       "      <td>Online Vehicle Services Booking platform</td>\n",
       "      <td>New Delhi</td>\n",
       "      <td>National Science and Technology Entrepreneursh...</td>\n",
       "      <td>Seed Funding</td>\n",
       "      <td>3.000000e+04</td>\n",
       "      <td>NaN</td>\n",
       "    </tr>\n",
       "    <tr>\n",
       "      <th>283</th>\n",
       "      <td>2017-01-30</td>\n",
       "      <td>Cloudrino</td>\n",
       "      <td>Technology</td>\n",
       "      <td>Cloud based Virtual Servers</td>\n",
       "      <td>New Delhi</td>\n",
       "      <td>The Ten Minute Million</td>\n",
       "      <td>Seed Funding</td>\n",
       "      <td>2.250000e+04</td>\n",
       "      <td>NaN</td>\n",
       "    </tr>\n",
       "    <tr>\n",
       "      <th>284</th>\n",
       "      <td>2017-01-30</td>\n",
       "      <td>Maptags</td>\n",
       "      <td>Consumer Internet</td>\n",
       "      <td>Smart Online address tags</td>\n",
       "      <td>Bangalore</td>\n",
       "      <td>The Ten Minute Million</td>\n",
       "      <td>Seed Funding</td>\n",
       "      <td>1.800000e+04</td>\n",
       "      <td>NaN</td>\n",
       "    </tr>\n",
       "  </tbody>\n",
       "</table>\n",
       "<p>285 rows × 9 columns</p>\n",
       "</div>"
      ],
      "text/plain": [
       "          Date     StartupName   IndustryVertical                               SubVertical CityLocation                                      InvestorsName  InvestmentType   AmountInUSD Remarks\n",
       "0   2017-03-21        Flipkart          eCommerce                     ECommerce Marketplace    Bangalore                  Microsoft, eBay, Tencent Holdings  Private Equity  1.400000e+09     NaN\n",
       "1   2017-05-18           Paytm          ECommerce        Mobile Wallet & ECommerce platform    Bangalore                                     SoftBank Group  Private Equity  1.400000e+09     NaN\n",
       "2   2017-01-03             Ola  Consumer Internet                  App based cab aggregator    Bangalore                                SoftBank Group Corp  Private Equity  3.300000e+08     NaN\n",
       "3   2017-04-14        Ola Cabs  Consumer Internet                        Cab Aggregator App    Bangalore                                   SIMI Pacific Pte  Private Equity  2.600000e+08     NaN\n",
       "4   2017-04-24       Oyo Rooms  Consumer Internet          Branded Budget Hotels Aggregator      Gurgaon  SoftBank Vision Fund, Lightspeed Venture Partn...  Private Equity  2.500000e+08     NaN\n",
       "..         ...             ...                ...                                       ...          ...                                                ...             ...           ...     ...\n",
       "280 2017-02-17        Leopetra          eCommerce           Solution provider for pet needs       Mumbai                                   Facebook FBStart    Seed Funding  4.000000e+04     NaN\n",
       "281 2017-08-02          Edurev  Consumer Internet                   Online Education Portal      Gurgaon                        Facebook FB Start programme    Seed Funding  4.000000e+04     NaN\n",
       "282 2017-07-03  Book Servicing  Consumer Internet  Online Vehicle Services Booking platform    New Delhi  National Science and Technology Entrepreneursh...    Seed Funding  3.000000e+04     NaN\n",
       "283 2017-01-30       Cloudrino         Technology               Cloud based Virtual Servers    New Delhi                             The Ten Minute Million    Seed Funding  2.250000e+04     NaN\n",
       "284 2017-01-30         Maptags  Consumer Internet                 Smart Online address tags    Bangalore                             The Ten Minute Million    Seed Funding  1.800000e+04     NaN\n",
       "\n",
       "[285 rows x 9 columns]"
      ]
     },
     "execution_count": 18,
     "metadata": {},
     "output_type": "execute_result"
    }
   ],
   "source": [
    "df1"
   ]
  }
 ],
 "metadata": {
  "kernelspec": {
   "display_name": "Python 3",
   "language": "python",
   "name": "python3"
  },
  "language_info": {
   "codemirror_mode": {
    "name": "ipython",
    "version": 3
   },
   "file_extension": ".py",
   "mimetype": "text/x-python",
   "name": "python",
   "nbconvert_exporter": "python",
   "pygments_lexer": "ipython3",
   "version": "3.7.12"
  },
  "papermill": {
   "default_parameters": {},
   "duration": 10.885269,
   "end_time": "2022-01-20T10:33:02.140851",
   "environment_variables": {},
   "exception": null,
   "input_path": "__notebook__.ipynb",
   "output_path": "__notebook__.ipynb",
   "parameters": {},
   "start_time": "2022-01-20T10:32:51.255582",
   "version": "2.3.3"
  }
 },
 "nbformat": 4,
 "nbformat_minor": 5
}
