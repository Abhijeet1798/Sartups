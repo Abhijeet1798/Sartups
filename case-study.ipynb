{
 "cells": [
  {
   "cell_type": "code",
   "execution_count": 1,
   "id": "ad4da985",
   "metadata": {
    "execution": {
     "iopub.execute_input": "2022-01-22T12:30:16.531760Z",
     "iopub.status.busy": "2022-01-22T12:30:16.531186Z",
     "iopub.status.idle": "2022-01-22T12:30:16.546433Z",
     "shell.execute_reply": "2022-01-22T12:30:16.546862Z",
     "shell.execute_reply.started": "2022-01-22T12:19:16.385161Z"
    },
    "papermill": {
     "duration": 0.04047,
     "end_time": "2022-01-22T12:30:16.547194",
     "exception": false,
     "start_time": "2022-01-22T12:30:16.506724",
     "status": "completed"
    },
    "tags": []
   },
   "outputs": [
    {
     "name": "stdout",
     "output_type": "stream",
     "text": [
      "/kaggle/input/startup-data/startup_funding.csv\n"
     ]
    }
   ],
   "source": [
    "# This Python 3 environment comes with many helpful analytics libraries installed\n",
    "# It is defined by the kaggle/python Docker image: https://github.com/kaggle/docker-python\n",
    "# For example, here's several helpful packages to load\n",
    "\n",
    "import numpy as np # linear algebra\n",
    "import pandas as pd # data processing, CSV file I/O (e.g. pd.read_csv)\n",
    "\n",
    "# Input data files are available in the read-only \"../input/\" directory\n",
    "# For example, running this (by clicking run or pressing Shift+Enter) will list all files under the input directory\n",
    "\n",
    "import os\n",
    "for dirname, _, filenames in os.walk('/kaggle/input'):\n",
    "    for filename in filenames:\n",
    "        print(os.path.join(dirname, filename))\n",
    "\n",
    "# You can write up to 20GB to the current directory (/kaggle/working/) that gets preserved as output when you create a version using \"Save & Run All\" \n",
    "# You can also write temporary files to /kaggle/temp/, but they won't be saved outside of the current session"
   ]
  },
  {
   "cell_type": "code",
   "execution_count": 2,
   "id": "7b40db86",
   "metadata": {
    "execution": {
     "iopub.execute_input": "2022-01-22T12:30:16.579584Z",
     "iopub.status.busy": "2022-01-22T12:30:16.578573Z",
     "iopub.status.idle": "2022-01-22T12:30:17.674051Z",
     "shell.execute_reply": "2022-01-22T12:30:17.674553Z",
     "shell.execute_reply.started": "2022-01-22T12:19:16.427603Z"
    },
    "papermill": {
     "duration": 1.112948,
     "end_time": "2022-01-22T12:30:17.674721",
     "exception": false,
     "start_time": "2022-01-22T12:30:16.561773",
     "status": "completed"
    },
    "tags": []
   },
   "outputs": [],
   "source": [
    "import pandas as pd\n",
    "import numpy as np\n",
    "import matplotlib.pyplot as plt\n",
    "import seaborn as sns\n",
    "data = pd.read_csv(\"/kaggle/input/startup-data/startup_funding.csv\")"
   ]
  },
  {
   "cell_type": "code",
   "execution_count": 3,
   "id": "70c63037",
   "metadata": {
    "execution": {
     "iopub.execute_input": "2022-01-22T12:30:17.707714Z",
     "iopub.status.busy": "2022-01-22T12:30:17.707098Z",
     "iopub.status.idle": "2022-01-22T12:30:17.724790Z",
     "shell.execute_reply": "2022-01-22T12:30:17.725371Z",
     "shell.execute_reply.started": "2022-01-22T12:19:17.411647Z"
    },
    "papermill": {
     "duration": 0.036363,
     "end_time": "2022-01-22T12:30:17.725537",
     "exception": false,
     "start_time": "2022-01-22T12:30:17.689174",
     "status": "completed"
    },
    "tags": []
   },
   "outputs": [
    {
     "name": "stdout",
     "output_type": "stream",
     "text": [
      "       SNo        Date       StartupName   IndustryVertical  ...                                      InvestorsName  InvestmentType AmountInUSD                            Remarks\n",
      "0        0  01/08/2017          TouchKin         Technology  ...                                        Kae Capital  Private Equity   1,300,000                                NaN\n",
      "1        1  02/08/2017           Ethinos         Technology  ...                         Triton Investment Advisors  Private Equity         NaN                                NaN\n",
      "2        2  02/08/2017      Leverage Edu  Consumer Internet  ...  Kashyap Deorah, Anand Sankeshwar, Deepak Jain,...    Seed Funding         NaN                                NaN\n",
      "3        3  02/08/2017              Zepo  Consumer Internet  ...  Kunal Shah, LetsVenture, Anupam Mittal, Hetal ...    Seed Funding     500,000                                NaN\n",
      "4        4  02/08/2017      Click2Clinic  Consumer Internet  ...                     Narottam Thudi, Shireesh Palle    Seed Funding     850,000                                NaN\n",
      "...    ...         ...               ...                ...  ...                                                ...             ...         ...                                ...\n",
      "2367  2367  29/01/2015        Printvenue                NaN  ...                        Asia Pacific Internet Group  Private Equity   4,500,000                                NaN\n",
      "2368  2368  29/01/2015          Graphene                NaN  ...                                     KARSEMVEN Fund  Private Equity     825,000                Govt backed VC Fund\n",
      "2369  2369  30/01/2015    Mad Street Den                NaN  ...                     Exfinity Fund, GrowX Ventures.  Private Equity   1,500,000                                NaN\n",
      "2370  2370  30/01/2015         Simplotel                NaN  ...                                         MakeMyTrip  Private Equity         NaN  Strategic Funding, Minority stake\n",
      "2371  2371  31/01/2015  couponmachine.in                NaN  ...                  UK based Group of Angel Investors    Seed Funding     140,000                                NaN\n",
      "\n",
      "[2372 rows x 10 columns]\n"
     ]
    }
   ],
   "source": [
    "\n",
    "pd.set_option('display.max_rows',25)\n",
    "pd.set_option('display.max_columns',9)\n",
    "pd.set_option('display.width',200)\n",
    "\n",
    "print(data)\n"
   ]
  },
  {
   "cell_type": "code",
   "execution_count": 4,
   "id": "fa34079a",
   "metadata": {
    "execution": {
     "iopub.execute_input": "2022-01-22T12:30:17.782022Z",
     "iopub.status.busy": "2022-01-22T12:30:17.765238Z",
     "iopub.status.idle": "2022-01-22T12:30:17.784206Z",
     "shell.execute_reply": "2022-01-22T12:30:17.784653Z",
     "shell.execute_reply.started": "2022-01-22T12:19:17.433891Z"
    },
    "papermill": {
     "duration": 0.044889,
     "end_time": "2022-01-22T12:30:17.784874",
     "exception": false,
     "start_time": "2022-01-22T12:30:17.739985",
     "status": "completed"
    },
    "scrolled": true,
    "tags": []
   },
   "outputs": [
    {
     "name": "stdout",
     "output_type": "stream",
     "text": [
      "<class 'pandas.core.frame.DataFrame'>\n",
      "RangeIndex: 2372 entries, 0 to 2371\n",
      "Data columns (total 10 columns):\n",
      " #   Column            Non-Null Count  Dtype \n",
      "---  ------            --------------  ----- \n",
      " 0   SNo               2372 non-null   int64 \n",
      " 1   Date              2372 non-null   object\n",
      " 2   StartupName       2372 non-null   object\n",
      " 3   IndustryVertical  2201 non-null   object\n",
      " 4   SubVertical       1436 non-null   object\n",
      " 5   CityLocation      2193 non-null   object\n",
      " 6   InvestorsName     2364 non-null   object\n",
      " 7   InvestmentType    2371 non-null   object\n",
      " 8   AmountInUSD       1525 non-null   object\n",
      " 9   Remarks           419 non-null    object\n",
      "dtypes: int64(1), object(9)\n",
      "memory usage: 185.4+ KB\n"
     ]
    }
   ],
   "source": [
    "data.head(10)\n",
    "data.info()"
   ]
  },
  {
   "cell_type": "code",
   "execution_count": 5,
   "id": "62babc45",
   "metadata": {
    "execution": {
     "iopub.execute_input": "2022-01-22T12:30:17.819476Z",
     "iopub.status.busy": "2022-01-22T12:30:17.818643Z",
     "iopub.status.idle": "2022-01-22T12:30:17.821848Z",
     "shell.execute_reply": "2022-01-22T12:30:17.822315Z",
     "shell.execute_reply.started": "2022-01-22T12:19:17.464664Z"
    },
    "papermill": {
     "duration": 0.02222,
     "end_time": "2022-01-22T12:30:17.822478",
     "exception": false,
     "start_time": "2022-01-22T12:30:17.800258",
     "status": "completed"
    },
    "tags": []
   },
   "outputs": [],
   "source": [
    "df = data"
   ]
  },
  {
   "cell_type": "code",
   "execution_count": 6,
   "id": "59e87b8b",
   "metadata": {
    "execution": {
     "iopub.execute_input": "2022-01-22T12:30:17.858933Z",
     "iopub.status.busy": "2022-01-22T12:30:17.854384Z",
     "iopub.status.idle": "2022-01-22T12:30:17.864438Z",
     "shell.execute_reply": "2022-01-22T12:30:17.863938Z",
     "shell.execute_reply.started": "2022-01-22T12:19:17.471468Z"
    },
    "papermill": {
     "duration": 0.027383,
     "end_time": "2022-01-22T12:30:17.864576",
     "exception": false,
     "start_time": "2022-01-22T12:30:17.837193",
     "status": "completed"
    },
    "tags": []
   },
   "outputs": [],
   "source": [
    "df = df.dropna(subset=['AmountInUSD']) # Dropping the rows whose investment is not known"
   ]
  },
  {
   "cell_type": "code",
   "execution_count": 7,
   "id": "87e7c560",
   "metadata": {
    "execution": {
     "iopub.execute_input": "2022-01-22T12:30:17.898358Z",
     "iopub.status.busy": "2022-01-22T12:30:17.897705Z",
     "iopub.status.idle": "2022-01-22T12:30:17.908468Z",
     "shell.execute_reply": "2022-01-22T12:30:17.908918Z",
     "shell.execute_reply.started": "2022-01-22T12:19:17.488157Z"
    },
    "papermill": {
     "duration": 0.029945,
     "end_time": "2022-01-22T12:30:17.909112",
     "exception": false,
     "start_time": "2022-01-22T12:30:17.879167",
     "status": "completed"
    },
    "tags": []
   },
   "outputs": [
    {
     "name": "stdout",
     "output_type": "stream",
     "text": [
      "<class 'pandas.core.frame.DataFrame'>\n",
      "Int64Index: 1525 entries, 0 to 2371\n",
      "Data columns (total 10 columns):\n",
      " #   Column            Non-Null Count  Dtype \n",
      "---  ------            --------------  ----- \n",
      " 0   SNo               1525 non-null   int64 \n",
      " 1   Date              1525 non-null   object\n",
      " 2   StartupName       1525 non-null   object\n",
      " 3   IndustryVertical  1394 non-null   object\n",
      " 4   SubVertical       871 non-null    object\n",
      " 5   CityLocation      1390 non-null   object\n",
      " 6   InvestorsName     1520 non-null   object\n",
      " 7   InvestmentType    1525 non-null   object\n",
      " 8   AmountInUSD       1525 non-null   object\n",
      " 9   Remarks           341 non-null    object\n",
      "dtypes: int64(1), object(9)\n",
      "memory usage: 131.1+ KB\n"
     ]
    }
   ],
   "source": [
    "df.info()"
   ]
  },
  {
   "cell_type": "code",
   "execution_count": 8,
   "id": "8295d027",
   "metadata": {
    "execution": {
     "iopub.execute_input": "2022-01-22T12:30:17.955673Z",
     "iopub.status.busy": "2022-01-22T12:30:17.955008Z",
     "iopub.status.idle": "2022-01-22T12:30:17.961380Z",
     "shell.execute_reply": "2022-01-22T12:30:17.960902Z",
     "shell.execute_reply.started": "2022-01-22T12:19:17.510963Z"
    },
    "papermill": {
     "duration": 0.037725,
     "end_time": "2022-01-22T12:30:17.961546",
     "exception": false,
     "start_time": "2022-01-22T12:30:17.923821",
     "status": "completed"
    },
    "tags": []
   },
   "outputs": [
    {
     "name": "stderr",
     "output_type": "stream",
     "text": [
      "/opt/conda/lib/python3.7/site-packages/ipykernel_launcher.py:2: SettingWithCopyWarning: \n",
      "A value is trying to be set on a copy of a slice from a DataFrame.\n",
      "Try using .loc[row_indexer,col_indexer] = value instead\n",
      "\n",
      "See the caveats in the documentation: https://pandas.pydata.org/pandas-docs/stable/user_guide/indexing.html#returning-a-view-versus-a-copy\n",
      "  \n"
     ]
    }
   ],
   "source": [
    "# Converting the dates in date time stamp\n",
    "df['Date'] = pd.to_datetime(df['Date'])"
   ]
  },
  {
   "cell_type": "code",
   "execution_count": 9,
   "id": "0600ac9a",
   "metadata": {
    "execution": {
     "iopub.execute_input": "2022-01-22T12:30:18.000161Z",
     "iopub.status.busy": "2022-01-22T12:30:17.999450Z",
     "iopub.status.idle": "2022-01-22T12:30:18.009119Z",
     "shell.execute_reply": "2022-01-22T12:30:18.010013Z",
     "shell.execute_reply.started": "2022-01-22T12:19:17.539614Z"
    },
    "papermill": {
     "duration": 0.031656,
     "end_time": "2022-01-22T12:30:18.010298",
     "exception": false,
     "start_time": "2022-01-22T12:30:17.978642",
     "status": "completed"
    },
    "tags": []
   },
   "outputs": [
    {
     "name": "stdout",
     "output_type": "stream",
     "text": [
      "<class 'pandas.core.frame.DataFrame'>\n",
      "Int64Index: 1525 entries, 0 to 2371\n",
      "Data columns (total 10 columns):\n",
      " #   Column            Non-Null Count  Dtype         \n",
      "---  ------            --------------  -----         \n",
      " 0   SNo               1525 non-null   int64         \n",
      " 1   Date              1525 non-null   datetime64[ns]\n",
      " 2   StartupName       1525 non-null   object        \n",
      " 3   IndustryVertical  1394 non-null   object        \n",
      " 4   SubVertical       871 non-null    object        \n",
      " 5   CityLocation      1390 non-null   object        \n",
      " 6   InvestorsName     1520 non-null   object        \n",
      " 7   InvestmentType    1525 non-null   object        \n",
      " 8   AmountInUSD       1525 non-null   object        \n",
      " 9   Remarks           341 non-null    object        \n",
      "dtypes: datetime64[ns](1), int64(1), object(8)\n",
      "memory usage: 131.1+ KB\n"
     ]
    }
   ],
   "source": [
    "df.info() # Checking the coversion happened or not"
   ]
  },
  {
   "cell_type": "code",
   "execution_count": 10,
   "id": "55617ce3",
   "metadata": {
    "execution": {
     "iopub.execute_input": "2022-01-22T12:30:18.047915Z",
     "iopub.status.busy": "2022-01-22T12:30:18.047337Z",
     "iopub.status.idle": "2022-01-22T12:30:18.051549Z",
     "shell.execute_reply": "2022-01-22T12:30:18.052007Z",
     "shell.execute_reply.started": "2022-01-22T12:19:17.557197Z"
    },
    "papermill": {
     "duration": 0.023251,
     "end_time": "2022-01-22T12:30:18.052197",
     "exception": false,
     "start_time": "2022-01-22T12:30:18.028946",
     "status": "completed"
    },
    "tags": []
   },
   "outputs": [],
   "source": [
    "df = df.drop('SNo',axis = 1) #Dropped the SNo since I will rearrange it"
   ]
  },
  {
   "cell_type": "code",
   "execution_count": 11,
   "id": "78d42f5e",
   "metadata": {
    "execution": {
     "iopub.execute_input": "2022-01-22T12:30:18.088714Z",
     "iopub.status.busy": "2022-01-22T12:30:18.088102Z",
     "iopub.status.idle": "2022-01-22T12:30:18.093030Z",
     "shell.execute_reply": "2022-01-22T12:30:18.093589Z",
     "shell.execute_reply.started": "2022-01-22T12:19:17.569361Z"
    },
    "papermill": {
     "duration": 0.023827,
     "end_time": "2022-01-22T12:30:18.093768",
     "exception": false,
     "start_time": "2022-01-22T12:30:18.069941",
     "status": "completed"
    },
    "tags": []
   },
   "outputs": [],
   "source": [
    "#Data of only 2017\n",
    "df1 = df[df['Date'].dt.year == 2017]"
   ]
  },
  {
   "cell_type": "code",
   "execution_count": 12,
   "id": "ebd97365",
   "metadata": {
    "execution": {
     "iopub.execute_input": "2022-01-22T12:30:18.128574Z",
     "iopub.status.busy": "2022-01-22T12:30:18.127942Z",
     "iopub.status.idle": "2022-01-22T12:30:18.147720Z",
     "shell.execute_reply": "2022-01-22T12:30:18.148175Z",
     "shell.execute_reply.started": "2022-01-22T12:19:17.582342Z"
    },
    "papermill": {
     "duration": 0.038663,
     "end_time": "2022-01-22T12:30:18.148357",
     "exception": false,
     "start_time": "2022-01-22T12:30:18.109694",
     "status": "completed"
    },
    "tags": []
   },
   "outputs": [
    {
     "data": {
      "text/html": [
       "<div>\n",
       "<style scoped>\n",
       "    .dataframe tbody tr th:only-of-type {\n",
       "        vertical-align: middle;\n",
       "    }\n",
       "\n",
       "    .dataframe tbody tr th {\n",
       "        vertical-align: top;\n",
       "    }\n",
       "\n",
       "    .dataframe thead th {\n",
       "        text-align: right;\n",
       "    }\n",
       "</style>\n",
       "<table border=\"1\" class=\"dataframe\">\n",
       "  <thead>\n",
       "    <tr style=\"text-align: right;\">\n",
       "      <th></th>\n",
       "      <th>Date</th>\n",
       "      <th>StartupName</th>\n",
       "      <th>IndustryVertical</th>\n",
       "      <th>SubVertical</th>\n",
       "      <th>CityLocation</th>\n",
       "      <th>InvestorsName</th>\n",
       "      <th>InvestmentType</th>\n",
       "      <th>AmountInUSD</th>\n",
       "      <th>Remarks</th>\n",
       "    </tr>\n",
       "  </thead>\n",
       "  <tbody>\n",
       "    <tr>\n",
       "      <th>0</th>\n",
       "      <td>2017-01-08</td>\n",
       "      <td>TouchKin</td>\n",
       "      <td>Technology</td>\n",
       "      <td>Predictive Care Platform</td>\n",
       "      <td>Bangalore</td>\n",
       "      <td>Kae Capital</td>\n",
       "      <td>Private Equity</td>\n",
       "      <td>1,300,000</td>\n",
       "      <td>NaN</td>\n",
       "    </tr>\n",
       "    <tr>\n",
       "      <th>3</th>\n",
       "      <td>2017-02-08</td>\n",
       "      <td>Zepo</td>\n",
       "      <td>Consumer Internet</td>\n",
       "      <td>DIY Ecommerce platform</td>\n",
       "      <td>Mumbai</td>\n",
       "      <td>Kunal Shah, LetsVenture, Anupam Mittal, Hetal ...</td>\n",
       "      <td>Seed Funding</td>\n",
       "      <td>500,000</td>\n",
       "      <td>NaN</td>\n",
       "    </tr>\n",
       "    <tr>\n",
       "      <th>4</th>\n",
       "      <td>2017-02-08</td>\n",
       "      <td>Click2Clinic</td>\n",
       "      <td>Consumer Internet</td>\n",
       "      <td>healthcare service aggregator</td>\n",
       "      <td>Hyderabad</td>\n",
       "      <td>Narottam Thudi, Shireesh Palle</td>\n",
       "      <td>Seed Funding</td>\n",
       "      <td>850,000</td>\n",
       "      <td>NaN</td>\n",
       "    </tr>\n",
       "    <tr>\n",
       "      <th>5</th>\n",
       "      <td>2017-01-07</td>\n",
       "      <td>Billion Loans</td>\n",
       "      <td>Consumer Internet</td>\n",
       "      <td>Peer to Peer Lending platform</td>\n",
       "      <td>Bangalore</td>\n",
       "      <td>Reliance Corporate Advisory Services Ltd</td>\n",
       "      <td>Seed Funding</td>\n",
       "      <td>1,000,000</td>\n",
       "      <td>NaN</td>\n",
       "    </tr>\n",
       "    <tr>\n",
       "      <th>6</th>\n",
       "      <td>2017-03-07</td>\n",
       "      <td>Ecolibriumenergy</td>\n",
       "      <td>Technology</td>\n",
       "      <td>Energy management solutions provider</td>\n",
       "      <td>Ahmedabad</td>\n",
       "      <td>Infuse Ventures, JLL</td>\n",
       "      <td>Private Equity</td>\n",
       "      <td>2,600,000</td>\n",
       "      <td>NaN</td>\n",
       "    </tr>\n",
       "    <tr>\n",
       "      <th>...</th>\n",
       "      <td>...</td>\n",
       "      <td>...</td>\n",
       "      <td>...</td>\n",
       "      <td>...</td>\n",
       "      <td>...</td>\n",
       "      <td>...</td>\n",
       "      <td>...</td>\n",
       "      <td>...</td>\n",
       "      <td>...</td>\n",
       "    </tr>\n",
       "    <tr>\n",
       "      <th>436</th>\n",
       "      <td>2017-01-30</td>\n",
       "      <td>Intuit Things</td>\n",
       "      <td>Technology</td>\n",
       "      <td>IoT solutions for home automation applications</td>\n",
       "      <td>Mumbai</td>\n",
       "      <td>Sanjay Mehta &amp; Others ( The Ten Minute Million)</td>\n",
       "      <td>Seed Funding</td>\n",
       "      <td>106,000</td>\n",
       "      <td>NaN</td>\n",
       "    </tr>\n",
       "    <tr>\n",
       "      <th>437</th>\n",
       "      <td>2017-01-30</td>\n",
       "      <td>Cloudrino</td>\n",
       "      <td>Technology</td>\n",
       "      <td>Cloud based Virtual Servers</td>\n",
       "      <td>New Delhi</td>\n",
       "      <td>The Ten Minute Million</td>\n",
       "      <td>Seed Funding</td>\n",
       "      <td>22,500</td>\n",
       "      <td>NaN</td>\n",
       "    </tr>\n",
       "    <tr>\n",
       "      <th>438</th>\n",
       "      <td>2017-01-30</td>\n",
       "      <td>FabX</td>\n",
       "      <td>eCommerce</td>\n",
       "      <td>Used Furniture Marketplace</td>\n",
       "      <td>Mumbai</td>\n",
       "      <td>The Ten Minute Million</td>\n",
       "      <td>Seed Funding</td>\n",
       "      <td>68,000</td>\n",
       "      <td>NaN</td>\n",
       "    </tr>\n",
       "    <tr>\n",
       "      <th>439</th>\n",
       "      <td>2017-01-30</td>\n",
       "      <td>Maptags</td>\n",
       "      <td>Consumer Internet</td>\n",
       "      <td>Smart Online address tags</td>\n",
       "      <td>Bangalore</td>\n",
       "      <td>The Ten Minute Million</td>\n",
       "      <td>Seed Funding</td>\n",
       "      <td>18,000</td>\n",
       "      <td>NaN</td>\n",
       "    </tr>\n",
       "    <tr>\n",
       "      <th>441</th>\n",
       "      <td>2017-01-31</td>\n",
       "      <td>Heads Up For Tails</td>\n",
       "      <td>eCommerce</td>\n",
       "      <td>Online Pet Products Store</td>\n",
       "      <td>New Delhi</td>\n",
       "      <td>Undisclosed Investors</td>\n",
       "      <td>Private Equity</td>\n",
       "      <td>2,000,000</td>\n",
       "      <td>NaN</td>\n",
       "    </tr>\n",
       "  </tbody>\n",
       "</table>\n",
       "<p>285 rows × 9 columns</p>\n",
       "</div>"
      ],
      "text/plain": [
       "          Date         StartupName   IndustryVertical                                     SubVertical CityLocation                                      InvestorsName  InvestmentType AmountInUSD  \\\n",
       "0   2017-01-08            TouchKin         Technology                        Predictive Care Platform    Bangalore                                        Kae Capital  Private Equity   1,300,000   \n",
       "3   2017-02-08                Zepo  Consumer Internet                          DIY Ecommerce platform       Mumbai  Kunal Shah, LetsVenture, Anupam Mittal, Hetal ...    Seed Funding     500,000   \n",
       "4   2017-02-08        Click2Clinic  Consumer Internet                   healthcare service aggregator    Hyderabad                     Narottam Thudi, Shireesh Palle    Seed Funding     850,000   \n",
       "5   2017-01-07       Billion Loans  Consumer Internet                   Peer to Peer Lending platform    Bangalore           Reliance Corporate Advisory Services Ltd    Seed Funding   1,000,000   \n",
       "6   2017-03-07    Ecolibriumenergy         Technology            Energy management solutions provider    Ahmedabad                               Infuse Ventures, JLL  Private Equity   2,600,000   \n",
       "..         ...                 ...                ...                                             ...          ...                                                ...             ...         ...   \n",
       "436 2017-01-30       Intuit Things         Technology  IoT solutions for home automation applications       Mumbai    Sanjay Mehta & Others ( The Ten Minute Million)    Seed Funding     106,000   \n",
       "437 2017-01-30           Cloudrino         Technology                     Cloud based Virtual Servers    New Delhi                             The Ten Minute Million    Seed Funding      22,500   \n",
       "438 2017-01-30                FabX          eCommerce                      Used Furniture Marketplace       Mumbai                             The Ten Minute Million    Seed Funding      68,000   \n",
       "439 2017-01-30             Maptags  Consumer Internet                       Smart Online address tags    Bangalore                             The Ten Minute Million    Seed Funding      18,000   \n",
       "441 2017-01-31  Heads Up For Tails          eCommerce                       Online Pet Products Store    New Delhi                              Undisclosed Investors  Private Equity   2,000,000   \n",
       "\n",
       "    Remarks  \n",
       "0       NaN  \n",
       "3       NaN  \n",
       "4       NaN  \n",
       "5       NaN  \n",
       "6       NaN  \n",
       "..      ...  \n",
       "436     NaN  \n",
       "437     NaN  \n",
       "438     NaN  \n",
       "439     NaN  \n",
       "441     NaN  \n",
       "\n",
       "[285 rows x 9 columns]"
      ]
     },
     "execution_count": 12,
     "metadata": {},
     "output_type": "execute_result"
    }
   ],
   "source": [
    "df1"
   ]
  },
  {
   "cell_type": "code",
   "execution_count": 13,
   "id": "2de6225c",
   "metadata": {
    "execution": {
     "iopub.execute_input": "2022-01-22T12:30:18.187412Z",
     "iopub.status.busy": "2022-01-22T12:30:18.185614Z",
     "iopub.status.idle": "2022-01-22T12:30:18.201663Z",
     "shell.execute_reply": "2022-01-22T12:30:18.202289Z",
     "shell.execute_reply.started": "2022-01-22T12:19:17.616554Z"
    },
    "papermill": {
     "duration": 0.038049,
     "end_time": "2022-01-22T12:30:18.202489",
     "exception": false,
     "start_time": "2022-01-22T12:30:18.164440",
     "status": "completed"
    },
    "tags": []
   },
   "outputs": [
    {
     "data": {
      "text/html": [
       "<div>\n",
       "<style scoped>\n",
       "    .dataframe tbody tr th:only-of-type {\n",
       "        vertical-align: middle;\n",
       "    }\n",
       "\n",
       "    .dataframe tbody tr th {\n",
       "        vertical-align: top;\n",
       "    }\n",
       "\n",
       "    .dataframe thead th {\n",
       "        text-align: right;\n",
       "    }\n",
       "</style>\n",
       "<table border=\"1\" class=\"dataframe\">\n",
       "  <thead>\n",
       "    <tr style=\"text-align: right;\">\n",
       "      <th></th>\n",
       "      <th>Date</th>\n",
       "      <th>StartupName</th>\n",
       "      <th>IndustryVertical</th>\n",
       "      <th>SubVertical</th>\n",
       "      <th>CityLocation</th>\n",
       "      <th>InvestorsName</th>\n",
       "      <th>InvestmentType</th>\n",
       "      <th>AmountInUSD</th>\n",
       "      <th>Remarks</th>\n",
       "    </tr>\n",
       "  </thead>\n",
       "  <tbody>\n",
       "    <tr>\n",
       "      <th>0</th>\n",
       "      <td>2017-01-08</td>\n",
       "      <td>TouchKin</td>\n",
       "      <td>Technology</td>\n",
       "      <td>Predictive Care Platform</td>\n",
       "      <td>Bangalore</td>\n",
       "      <td>Kae Capital</td>\n",
       "      <td>Private Equity</td>\n",
       "      <td>1,300,000</td>\n",
       "      <td>NaN</td>\n",
       "    </tr>\n",
       "    <tr>\n",
       "      <th>1</th>\n",
       "      <td>2017-02-08</td>\n",
       "      <td>Zepo</td>\n",
       "      <td>Consumer Internet</td>\n",
       "      <td>DIY Ecommerce platform</td>\n",
       "      <td>Mumbai</td>\n",
       "      <td>Kunal Shah, LetsVenture, Anupam Mittal, Hetal ...</td>\n",
       "      <td>Seed Funding</td>\n",
       "      <td>500,000</td>\n",
       "      <td>NaN</td>\n",
       "    </tr>\n",
       "    <tr>\n",
       "      <th>2</th>\n",
       "      <td>2017-02-08</td>\n",
       "      <td>Click2Clinic</td>\n",
       "      <td>Consumer Internet</td>\n",
       "      <td>healthcare service aggregator</td>\n",
       "      <td>Hyderabad</td>\n",
       "      <td>Narottam Thudi, Shireesh Palle</td>\n",
       "      <td>Seed Funding</td>\n",
       "      <td>850,000</td>\n",
       "      <td>NaN</td>\n",
       "    </tr>\n",
       "    <tr>\n",
       "      <th>3</th>\n",
       "      <td>2017-01-07</td>\n",
       "      <td>Billion Loans</td>\n",
       "      <td>Consumer Internet</td>\n",
       "      <td>Peer to Peer Lending platform</td>\n",
       "      <td>Bangalore</td>\n",
       "      <td>Reliance Corporate Advisory Services Ltd</td>\n",
       "      <td>Seed Funding</td>\n",
       "      <td>1,000,000</td>\n",
       "      <td>NaN</td>\n",
       "    </tr>\n",
       "    <tr>\n",
       "      <th>4</th>\n",
       "      <td>2017-03-07</td>\n",
       "      <td>Ecolibriumenergy</td>\n",
       "      <td>Technology</td>\n",
       "      <td>Energy management solutions provider</td>\n",
       "      <td>Ahmedabad</td>\n",
       "      <td>Infuse Ventures, JLL</td>\n",
       "      <td>Private Equity</td>\n",
       "      <td>2,600,000</td>\n",
       "      <td>NaN</td>\n",
       "    </tr>\n",
       "    <tr>\n",
       "      <th>...</th>\n",
       "      <td>...</td>\n",
       "      <td>...</td>\n",
       "      <td>...</td>\n",
       "      <td>...</td>\n",
       "      <td>...</td>\n",
       "      <td>...</td>\n",
       "      <td>...</td>\n",
       "      <td>...</td>\n",
       "      <td>...</td>\n",
       "    </tr>\n",
       "    <tr>\n",
       "      <th>280</th>\n",
       "      <td>2017-01-30</td>\n",
       "      <td>Intuit Things</td>\n",
       "      <td>Technology</td>\n",
       "      <td>IoT solutions for home automation applications</td>\n",
       "      <td>Mumbai</td>\n",
       "      <td>Sanjay Mehta &amp; Others ( The Ten Minute Million)</td>\n",
       "      <td>Seed Funding</td>\n",
       "      <td>106,000</td>\n",
       "      <td>NaN</td>\n",
       "    </tr>\n",
       "    <tr>\n",
       "      <th>281</th>\n",
       "      <td>2017-01-30</td>\n",
       "      <td>Cloudrino</td>\n",
       "      <td>Technology</td>\n",
       "      <td>Cloud based Virtual Servers</td>\n",
       "      <td>New Delhi</td>\n",
       "      <td>The Ten Minute Million</td>\n",
       "      <td>Seed Funding</td>\n",
       "      <td>22,500</td>\n",
       "      <td>NaN</td>\n",
       "    </tr>\n",
       "    <tr>\n",
       "      <th>282</th>\n",
       "      <td>2017-01-30</td>\n",
       "      <td>FabX</td>\n",
       "      <td>eCommerce</td>\n",
       "      <td>Used Furniture Marketplace</td>\n",
       "      <td>Mumbai</td>\n",
       "      <td>The Ten Minute Million</td>\n",
       "      <td>Seed Funding</td>\n",
       "      <td>68,000</td>\n",
       "      <td>NaN</td>\n",
       "    </tr>\n",
       "    <tr>\n",
       "      <th>283</th>\n",
       "      <td>2017-01-30</td>\n",
       "      <td>Maptags</td>\n",
       "      <td>Consumer Internet</td>\n",
       "      <td>Smart Online address tags</td>\n",
       "      <td>Bangalore</td>\n",
       "      <td>The Ten Minute Million</td>\n",
       "      <td>Seed Funding</td>\n",
       "      <td>18,000</td>\n",
       "      <td>NaN</td>\n",
       "    </tr>\n",
       "    <tr>\n",
       "      <th>284</th>\n",
       "      <td>2017-01-31</td>\n",
       "      <td>Heads Up For Tails</td>\n",
       "      <td>eCommerce</td>\n",
       "      <td>Online Pet Products Store</td>\n",
       "      <td>New Delhi</td>\n",
       "      <td>Undisclosed Investors</td>\n",
       "      <td>Private Equity</td>\n",
       "      <td>2,000,000</td>\n",
       "      <td>NaN</td>\n",
       "    </tr>\n",
       "  </tbody>\n",
       "</table>\n",
       "<p>285 rows × 9 columns</p>\n",
       "</div>"
      ],
      "text/plain": [
       "          Date         StartupName   IndustryVertical                                     SubVertical CityLocation                                      InvestorsName  InvestmentType AmountInUSD  \\\n",
       "0   2017-01-08            TouchKin         Technology                        Predictive Care Platform    Bangalore                                        Kae Capital  Private Equity   1,300,000   \n",
       "1   2017-02-08                Zepo  Consumer Internet                          DIY Ecommerce platform       Mumbai  Kunal Shah, LetsVenture, Anupam Mittal, Hetal ...    Seed Funding     500,000   \n",
       "2   2017-02-08        Click2Clinic  Consumer Internet                   healthcare service aggregator    Hyderabad                     Narottam Thudi, Shireesh Palle    Seed Funding     850,000   \n",
       "3   2017-01-07       Billion Loans  Consumer Internet                   Peer to Peer Lending platform    Bangalore           Reliance Corporate Advisory Services Ltd    Seed Funding   1,000,000   \n",
       "4   2017-03-07    Ecolibriumenergy         Technology            Energy management solutions provider    Ahmedabad                               Infuse Ventures, JLL  Private Equity   2,600,000   \n",
       "..         ...                 ...                ...                                             ...          ...                                                ...             ...         ...   \n",
       "280 2017-01-30       Intuit Things         Technology  IoT solutions for home automation applications       Mumbai    Sanjay Mehta & Others ( The Ten Minute Million)    Seed Funding     106,000   \n",
       "281 2017-01-30           Cloudrino         Technology                     Cloud based Virtual Servers    New Delhi                             The Ten Minute Million    Seed Funding      22,500   \n",
       "282 2017-01-30                FabX          eCommerce                      Used Furniture Marketplace       Mumbai                             The Ten Minute Million    Seed Funding      68,000   \n",
       "283 2017-01-30             Maptags  Consumer Internet                       Smart Online address tags    Bangalore                             The Ten Minute Million    Seed Funding      18,000   \n",
       "284 2017-01-31  Heads Up For Tails          eCommerce                       Online Pet Products Store    New Delhi                              Undisclosed Investors  Private Equity   2,000,000   \n",
       "\n",
       "    Remarks  \n",
       "0       NaN  \n",
       "1       NaN  \n",
       "2       NaN  \n",
       "3       NaN  \n",
       "4       NaN  \n",
       "..      ...  \n",
       "280     NaN  \n",
       "281     NaN  \n",
       "282     NaN  \n",
       "283     NaN  \n",
       "284     NaN  \n",
       "\n",
       "[285 rows x 9 columns]"
      ]
     },
     "execution_count": 13,
     "metadata": {},
     "output_type": "execute_result"
    }
   ],
   "source": [
    "# Rearrange on the basis of date\n",
    "df1.sort_values(by = 'Date', ascending = False)\n",
    "df1.reset_index(drop = True, inplace = True)\n",
    "df1"
   ]
  },
  {
   "cell_type": "code",
   "execution_count": 14,
   "id": "10bea2fa",
   "metadata": {
    "execution": {
     "iopub.execute_input": "2022-01-22T12:30:18.240106Z",
     "iopub.status.busy": "2022-01-22T12:30:18.239481Z",
     "iopub.status.idle": "2022-01-22T12:30:18.243822Z",
     "shell.execute_reply": "2022-01-22T12:30:18.244360Z",
     "shell.execute_reply.started": "2022-01-22T12:19:17.648014Z"
    },
    "papermill": {
     "duration": 0.025159,
     "end_time": "2022-01-22T12:30:18.244533",
     "exception": false,
     "start_time": "2022-01-22T12:30:18.219374",
     "status": "completed"
    },
    "tags": []
   },
   "outputs": [],
   "source": [
    "#Method to converting my currency column into numerical\n",
    "def clean_currency(x):\n",
    "    \"\"\" If the value is a string, then remove currency symbol and delimiters\n",
    "    otherwise, the value is numeric and can be converted\n",
    "    \"\"\"\n",
    "    if isinstance(x, str):\n",
    "       # return(x.replace('$', '').replace(',', ''))\n",
    "        return(x.replace(',', ''))\n",
    "    return(x)"
   ]
  },
  {
   "cell_type": "code",
   "execution_count": 15,
   "id": "1c09b9ec",
   "metadata": {
    "execution": {
     "iopub.execute_input": "2022-01-22T12:30:18.284566Z",
     "iopub.status.busy": "2022-01-22T12:30:18.283900Z",
     "iopub.status.idle": "2022-01-22T12:30:18.286284Z",
     "shell.execute_reply": "2022-01-22T12:30:18.286914Z",
     "shell.execute_reply.started": "2022-01-22T12:19:17.655758Z"
    },
    "papermill": {
     "duration": 0.025927,
     "end_time": "2022-01-22T12:30:18.287126",
     "exception": false,
     "start_time": "2022-01-22T12:30:18.261199",
     "status": "completed"
    },
    "tags": []
   },
   "outputs": [
    {
     "name": "stderr",
     "output_type": "stream",
     "text": [
      "/opt/conda/lib/python3.7/site-packages/ipykernel_launcher.py:1: SettingWithCopyWarning: \n",
      "A value is trying to be set on a copy of a slice from a DataFrame.\n",
      "Try using .loc[row_indexer,col_indexer] = value instead\n",
      "\n",
      "See the caveats in the documentation: https://pandas.pydata.org/pandas-docs/stable/user_guide/indexing.html#returning-a-view-versus-a-copy\n",
      "  \"\"\"Entry point for launching an IPython kernel.\n"
     ]
    }
   ],
   "source": [
    "df1['AmountInUSD'] = df1['AmountInUSD'].apply(clean_currency).astype('float')"
   ]
  },
  {
   "cell_type": "code",
   "execution_count": 16,
   "id": "1c7314c6",
   "metadata": {
    "execution": {
     "iopub.execute_input": "2022-01-22T12:30:18.325340Z",
     "iopub.status.busy": "2022-01-22T12:30:18.324668Z",
     "iopub.status.idle": "2022-01-22T12:30:18.328809Z",
     "shell.execute_reply": "2022-01-22T12:30:18.329340Z",
     "shell.execute_reply.started": "2022-01-22T12:19:17.674141Z"
    },
    "papermill": {
     "duration": 0.024275,
     "end_time": "2022-01-22T12:30:18.329522",
     "exception": false,
     "start_time": "2022-01-22T12:30:18.305247",
     "status": "completed"
    },
    "tags": []
   },
   "outputs": [],
   "source": [
    "df1 = df1.sort_values(by = 'AmountInUSD', ascending = False)"
   ]
  },
  {
   "cell_type": "code",
   "execution_count": 17,
   "id": "a6042005",
   "metadata": {
    "execution": {
     "iopub.execute_input": "2022-01-22T12:30:18.369118Z",
     "iopub.status.busy": "2022-01-22T12:30:18.368481Z",
     "iopub.status.idle": "2022-01-22T12:30:18.372121Z",
     "shell.execute_reply": "2022-01-22T12:30:18.372617Z",
     "shell.execute_reply.started": "2022-01-22T12:19:17.684608Z"
    },
    "papermill": {
     "duration": 0.025368,
     "end_time": "2022-01-22T12:30:18.372790",
     "exception": false,
     "start_time": "2022-01-22T12:30:18.347422",
     "status": "completed"
    },
    "tags": []
   },
   "outputs": [],
   "source": [
    "df1.reset_index(drop = True, inplace = True)"
   ]
  },
  {
   "cell_type": "code",
   "execution_count": 18,
   "id": "2fa1b7d0",
   "metadata": {
    "execution": {
     "iopub.execute_input": "2022-01-22T12:30:18.411819Z",
     "iopub.status.busy": "2022-01-22T12:30:18.411236Z",
     "iopub.status.idle": "2022-01-22T12:30:18.429556Z",
     "shell.execute_reply": "2022-01-22T12:30:18.430027Z",
     "shell.execute_reply.started": "2022-01-22T12:19:17.694681Z"
    },
    "papermill": {
     "duration": 0.039881,
     "end_time": "2022-01-22T12:30:18.430222",
     "exception": false,
     "start_time": "2022-01-22T12:30:18.390341",
     "status": "completed"
    },
    "tags": []
   },
   "outputs": [
    {
     "data": {
      "text/html": [
       "<div>\n",
       "<style scoped>\n",
       "    .dataframe tbody tr th:only-of-type {\n",
       "        vertical-align: middle;\n",
       "    }\n",
       "\n",
       "    .dataframe tbody tr th {\n",
       "        vertical-align: top;\n",
       "    }\n",
       "\n",
       "    .dataframe thead th {\n",
       "        text-align: right;\n",
       "    }\n",
       "</style>\n",
       "<table border=\"1\" class=\"dataframe\">\n",
       "  <thead>\n",
       "    <tr style=\"text-align: right;\">\n",
       "      <th></th>\n",
       "      <th>Date</th>\n",
       "      <th>StartupName</th>\n",
       "      <th>IndustryVertical</th>\n",
       "      <th>SubVertical</th>\n",
       "      <th>CityLocation</th>\n",
       "      <th>InvestorsName</th>\n",
       "      <th>InvestmentType</th>\n",
       "      <th>AmountInUSD</th>\n",
       "      <th>Remarks</th>\n",
       "    </tr>\n",
       "  </thead>\n",
       "  <tbody>\n",
       "    <tr>\n",
       "      <th>0</th>\n",
       "      <td>2017-03-21</td>\n",
       "      <td>Flipkart</td>\n",
       "      <td>eCommerce</td>\n",
       "      <td>ECommerce Marketplace</td>\n",
       "      <td>Bangalore</td>\n",
       "      <td>Microsoft, eBay, Tencent Holdings</td>\n",
       "      <td>Private Equity</td>\n",
       "      <td>1.400000e+09</td>\n",
       "      <td>NaN</td>\n",
       "    </tr>\n",
       "    <tr>\n",
       "      <th>1</th>\n",
       "      <td>2017-05-18</td>\n",
       "      <td>Paytm</td>\n",
       "      <td>ECommerce</td>\n",
       "      <td>Mobile Wallet &amp; ECommerce platform</td>\n",
       "      <td>Bangalore</td>\n",
       "      <td>SoftBank Group</td>\n",
       "      <td>Private Equity</td>\n",
       "      <td>1.400000e+09</td>\n",
       "      <td>NaN</td>\n",
       "    </tr>\n",
       "    <tr>\n",
       "      <th>2</th>\n",
       "      <td>2017-01-03</td>\n",
       "      <td>Ola</td>\n",
       "      <td>Consumer Internet</td>\n",
       "      <td>App based cab aggregator</td>\n",
       "      <td>Bangalore</td>\n",
       "      <td>SoftBank Group Corp</td>\n",
       "      <td>Private Equity</td>\n",
       "      <td>3.300000e+08</td>\n",
       "      <td>NaN</td>\n",
       "    </tr>\n",
       "    <tr>\n",
       "      <th>3</th>\n",
       "      <td>2017-04-14</td>\n",
       "      <td>Ola Cabs</td>\n",
       "      <td>Consumer Internet</td>\n",
       "      <td>Cab Aggregator App</td>\n",
       "      <td>Bangalore</td>\n",
       "      <td>SIMI Pacific Pte</td>\n",
       "      <td>Private Equity</td>\n",
       "      <td>2.600000e+08</td>\n",
       "      <td>NaN</td>\n",
       "    </tr>\n",
       "    <tr>\n",
       "      <th>4</th>\n",
       "      <td>2017-04-24</td>\n",
       "      <td>Oyo Rooms</td>\n",
       "      <td>Consumer Internet</td>\n",
       "      <td>Branded Budget Hotels Aggregator</td>\n",
       "      <td>Gurgaon</td>\n",
       "      <td>SoftBank Vision Fund, Lightspeed Venture Partn...</td>\n",
       "      <td>Private Equity</td>\n",
       "      <td>2.500000e+08</td>\n",
       "      <td>NaN</td>\n",
       "    </tr>\n",
       "    <tr>\n",
       "      <th>...</th>\n",
       "      <td>...</td>\n",
       "      <td>...</td>\n",
       "      <td>...</td>\n",
       "      <td>...</td>\n",
       "      <td>...</td>\n",
       "      <td>...</td>\n",
       "      <td>...</td>\n",
       "      <td>...</td>\n",
       "      <td>...</td>\n",
       "    </tr>\n",
       "    <tr>\n",
       "      <th>280</th>\n",
       "      <td>2017-02-17</td>\n",
       "      <td>Leopetra</td>\n",
       "      <td>eCommerce</td>\n",
       "      <td>Solution provider for pet needs</td>\n",
       "      <td>Mumbai</td>\n",
       "      <td>Facebook FBStart</td>\n",
       "      <td>Seed Funding</td>\n",
       "      <td>4.000000e+04</td>\n",
       "      <td>NaN</td>\n",
       "    </tr>\n",
       "    <tr>\n",
       "      <th>281</th>\n",
       "      <td>2017-08-02</td>\n",
       "      <td>Edurev</td>\n",
       "      <td>Consumer Internet</td>\n",
       "      <td>Online Education Portal</td>\n",
       "      <td>Gurgaon</td>\n",
       "      <td>Facebook FB Start programme</td>\n",
       "      <td>Seed Funding</td>\n",
       "      <td>4.000000e+04</td>\n",
       "      <td>NaN</td>\n",
       "    </tr>\n",
       "    <tr>\n",
       "      <th>282</th>\n",
       "      <td>2017-07-03</td>\n",
       "      <td>Book Servicing</td>\n",
       "      <td>Consumer Internet</td>\n",
       "      <td>Online Vehicle Services Booking platform</td>\n",
       "      <td>New Delhi</td>\n",
       "      <td>National Science and Technology Entrepreneursh...</td>\n",
       "      <td>Seed Funding</td>\n",
       "      <td>3.000000e+04</td>\n",
       "      <td>NaN</td>\n",
       "    </tr>\n",
       "    <tr>\n",
       "      <th>283</th>\n",
       "      <td>2017-01-30</td>\n",
       "      <td>Cloudrino</td>\n",
       "      <td>Technology</td>\n",
       "      <td>Cloud based Virtual Servers</td>\n",
       "      <td>New Delhi</td>\n",
       "      <td>The Ten Minute Million</td>\n",
       "      <td>Seed Funding</td>\n",
       "      <td>2.250000e+04</td>\n",
       "      <td>NaN</td>\n",
       "    </tr>\n",
       "    <tr>\n",
       "      <th>284</th>\n",
       "      <td>2017-01-30</td>\n",
       "      <td>Maptags</td>\n",
       "      <td>Consumer Internet</td>\n",
       "      <td>Smart Online address tags</td>\n",
       "      <td>Bangalore</td>\n",
       "      <td>The Ten Minute Million</td>\n",
       "      <td>Seed Funding</td>\n",
       "      <td>1.800000e+04</td>\n",
       "      <td>NaN</td>\n",
       "    </tr>\n",
       "  </tbody>\n",
       "</table>\n",
       "<p>285 rows × 9 columns</p>\n",
       "</div>"
      ],
      "text/plain": [
       "          Date     StartupName   IndustryVertical                               SubVertical CityLocation                                      InvestorsName  InvestmentType   AmountInUSD Remarks\n",
       "0   2017-03-21        Flipkart          eCommerce                     ECommerce Marketplace    Bangalore                  Microsoft, eBay, Tencent Holdings  Private Equity  1.400000e+09     NaN\n",
       "1   2017-05-18           Paytm          ECommerce        Mobile Wallet & ECommerce platform    Bangalore                                     SoftBank Group  Private Equity  1.400000e+09     NaN\n",
       "2   2017-01-03             Ola  Consumer Internet                  App based cab aggregator    Bangalore                                SoftBank Group Corp  Private Equity  3.300000e+08     NaN\n",
       "3   2017-04-14        Ola Cabs  Consumer Internet                        Cab Aggregator App    Bangalore                                   SIMI Pacific Pte  Private Equity  2.600000e+08     NaN\n",
       "4   2017-04-24       Oyo Rooms  Consumer Internet          Branded Budget Hotels Aggregator      Gurgaon  SoftBank Vision Fund, Lightspeed Venture Partn...  Private Equity  2.500000e+08     NaN\n",
       "..         ...             ...                ...                                       ...          ...                                                ...             ...           ...     ...\n",
       "280 2017-02-17        Leopetra          eCommerce           Solution provider for pet needs       Mumbai                                   Facebook FBStart    Seed Funding  4.000000e+04     NaN\n",
       "281 2017-08-02          Edurev  Consumer Internet                   Online Education Portal      Gurgaon                        Facebook FB Start programme    Seed Funding  4.000000e+04     NaN\n",
       "282 2017-07-03  Book Servicing  Consumer Internet  Online Vehicle Services Booking platform    New Delhi  National Science and Technology Entrepreneursh...    Seed Funding  3.000000e+04     NaN\n",
       "283 2017-01-30       Cloudrino         Technology               Cloud based Virtual Servers    New Delhi                             The Ten Minute Million    Seed Funding  2.250000e+04     NaN\n",
       "284 2017-01-30         Maptags  Consumer Internet                 Smart Online address tags    Bangalore                             The Ten Minute Million    Seed Funding  1.800000e+04     NaN\n",
       "\n",
       "[285 rows x 9 columns]"
      ]
     },
     "execution_count": 18,
     "metadata": {},
     "output_type": "execute_result"
    }
   ],
   "source": [
    "df1"
   ]
  },
  {
   "cell_type": "code",
   "execution_count": 19,
   "id": "cd591d3f",
   "metadata": {
    "execution": {
     "iopub.execute_input": "2022-01-22T12:30:18.470163Z",
     "iopub.status.busy": "2022-01-22T12:30:18.469469Z",
     "iopub.status.idle": "2022-01-22T12:30:18.472686Z",
     "shell.execute_reply": "2022-01-22T12:30:18.473326Z",
     "shell.execute_reply.started": "2022-01-22T12:19:17.728663Z"
    },
    "papermill": {
     "duration": 0.025389,
     "end_time": "2022-01-22T12:30:18.473491",
     "exception": false,
     "start_time": "2022-01-22T12:30:18.448102",
     "status": "completed"
    },
    "tags": []
   },
   "outputs": [],
   "source": [
    "df2 = df1.head(20)"
   ]
  },
  {
   "cell_type": "code",
   "execution_count": 20,
   "id": "f050c4bb",
   "metadata": {
    "execution": {
     "iopub.execute_input": "2022-01-22T12:30:18.512997Z",
     "iopub.status.busy": "2022-01-22T12:30:18.511688Z",
     "iopub.status.idle": "2022-01-22T12:30:18.765189Z",
     "shell.execute_reply": "2022-01-22T12:30:18.764225Z",
     "shell.execute_reply.started": "2022-01-22T12:19:17.734329Z"
    },
    "papermill": {
     "duration": 0.27421,
     "end_time": "2022-01-22T12:30:18.765336",
     "exception": false,
     "start_time": "2022-01-22T12:30:18.491126",
     "status": "completed"
    },
    "tags": []
   },
   "outputs": [
    {
     "data": {
      "text/plain": [
       "<matplotlib.collections.PathCollection at 0x7f45862a9f10>"
      ]
     },
     "execution_count": 20,
     "metadata": {},
     "output_type": "execute_result"
    },
    {
     "data": {
      "image/png": "[encoded data removed]",
      "text/plain": [
       "<Figure size 432x288 with 1 Axes>"
      ]
     },
     "metadata": {
      "needs_background": "light"
     },
     "output_type": "display_data"
    }
   ],
   "source": [
    "plt.scatter( df2['CityLocation'],df2['AmountInUSD'])"
   ]
  },
  {
   "cell_type": "code",
   "execution_count": 21,
   "id": "c9801041",
   "metadata": {
    "execution": {
     "iopub.execute_input": "2022-01-22T12:30:18.829581Z",
     "iopub.status.busy": "2022-01-22T12:30:18.817913Z",
     "iopub.status.idle": "2022-01-22T12:30:19.040349Z",
     "shell.execute_reply": "2022-01-22T12:30:19.041150Z",
     "shell.execute_reply.started": "2022-01-22T12:25:38.477900Z"
    },
    "papermill": {
     "duration": 0.258661,
     "end_time": "2022-01-22T12:30:19.042289",
     "exception": false,
     "start_time": "2022-01-22T12:30:18.783628",
     "status": "completed"
    },
    "tags": []
   },
   "outputs": [
    {
     "data": {
      "text/plain": [
       "<function matplotlib.pyplot.show(close=None, block=None)>"
      ]
     },
     "execution_count": 21,
     "metadata": {},
     "output_type": "execute_result"
    },
    {
     "data": {
      "image/png": "[encoded data removed]",
      "text/plain": [
       "<Figure size 432x288 with 1 Axes>"
      ]
     },
     "metadata": {
      "needs_background": "light"
     },
     "output_type": "display_data"
    }
   ],
   "source": [
    "#Histogram Chart to show the max occurance of city amoung the top 20 highest invested company \n",
    "plt.hist(df2['CityLocation'],edgecolor = 'black',bins = 25)\n",
    "plt.xticks(rotation = 40)\n",
    "plt.show\n"
   ]
  },
  {
   "cell_type": "code",
   "execution_count": 22,
   "id": "9442096e",
   "metadata": {
    "execution": {
     "iopub.execute_input": "2022-01-22T12:30:19.103210Z",
     "iopub.status.busy": "2022-01-22T12:30:19.100199Z",
     "iopub.status.idle": "2022-01-22T12:30:19.324343Z",
     "shell.execute_reply": "2022-01-22T12:30:19.324774Z",
     "shell.execute_reply.started": "2022-01-22T12:28:16.038466Z"
    },
    "papermill": {
     "duration": 0.261526,
     "end_time": "2022-01-22T12:30:19.324944",
     "exception": false,
     "start_time": "2022-01-22T12:30:19.063418",
     "status": "completed"
    },
    "tags": []
   },
   "outputs": [
    {
     "data": {
      "text/plain": [
       "<function matplotlib.pyplot.show(close=None, block=None)>"
      ]
     },
     "execution_count": 22,
     "metadata": {},
     "output_type": "execute_result"
    },
    {
     "data": {
      "image/png": "[encoded data removed]",
      "text/plain": [
       "<Figure size 432x288 with 1 Axes>"
      ]
     },
     "metadata": {
      "needs_background": "light"
     },
     "output_type": "display_data"
    }
   ],
   "source": [
    "#Bar Graph to show the amount of investment in different city.\n",
    "plt.bar(df2['CityLocation'], df2['AmountInUSD'],edgecolor = 'black',width = 0.6)\n",
    "plt.xticks(rotation = 40)\n",
    "plt.show"
   ]
  }
 ],
 "metadata": {
  "kernelspec": {
   "display_name": "Python 3",
   "language": "python",
   "name": "python3"
  },
  "language_info": {
   "codemirror_mode": {
    "name": "ipython",
    "version": 3
   },
   "file_extension": ".py",
   "mimetype": "text/x-python",
   "name": "python",
   "nbconvert_exporter": "python",
   "pygments_lexer": "ipython3",
   "version": "3.7.12"
  },
  "papermill": {
   "default_parameters": {},
   "duration": 12.71503,
   "end_time": "2022-01-22T12:30:20.056724",
   "environment_variables": {},
   "exception": null,
   "input_path": "__notebook__.ipynb",
   "output_path": "__notebook__.ipynb",
   "parameters": {},
   "start_time": "2022-01-22T12:30:07.341694",
   "version": "2.3.3"
  }
 },
 "nbformat": 4,
 "nbformat_minor": 5
}
